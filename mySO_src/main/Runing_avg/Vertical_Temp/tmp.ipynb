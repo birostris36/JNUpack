{
 "cells": [
  {
   "cell_type": "code",
   "execution_count": 34,
   "metadata": {},
   "outputs": [],
   "source": [
    "import matplotlib.pyplot as plt\n",
    "import xarray as xr\n",
    "import pickle\n",
    "from mpl_toolkits.axes_grid1 import make_axes_locatable\n",
    "import sys\n",
    "import matplotlib as mpl\n",
    "from scipy.interpolate import griddata \n",
    "import warnings\n",
    "import os\n",
    "import numpy as np\n",
    "sys.path.append('C:/Users/shjo/Bridge/JNUpack/SO/libs/')\n",
    "warnings.filterwarnings('ignore')\n",
    "from myTools import myInfo\n",
    "from myTrend import myfitting2d_sttcs,myRegress3d_sttcs\n",
    "from myPlot import  figmaster,myClrbr, dta_colr\n",
    "import matplotlib as mpl\n",
    "mpl.use('agg')\n",
    "varnm='salt'\n",
    "\n",
    "lon_rng=[230,250]; lat_rng=[-75,-30]\n",
    "npth='J:/tmp_proc/Obs/myISAS17_SO_200201_201712_tsh.nc'\n",
    "wpth='C:/Users/shjo/OneDrive/mySO/tmp/'"
   ]
  },
  {
   "cell_type": "code",
   "execution_count": 25,
   "metadata": {},
   "outputs": [],
   "source": [
    "myNC=xr.open_dataset(npth)['salt'].loc[dict(lat=slice(-75,-30),lon=slice(230,250),depth=slice(0,2000))]"
   ]
  },
  {
   "cell_type": "code",
   "execution_count": 30,
   "metadata": {},
   "outputs": [],
   "source": [
    "myNC_2d=myNC.mean(dim='lon')\n",
    "temp_1Y=myNC_2d.rolling(time=12).mean()\n",
    "temp_1Y=temp_1Y-temp_1Y.mean(dim='time')"
   ]
  },
  {
   "cell_type": "code",
   "execution_count": 44,
   "metadata": {},
   "outputs": [],
   "source": [
    "depth=temp_1Y.depth.values\n",
    "lat=temp_1Y.lat.values\n",
    "\n",
    "latR_m,depthR_m=np.meshgrid(lat,depth)\n",
    "\n",
    "mySetting={\n",
    "    'figsize': '',\n",
    "    'mylabel': '',\n",
    "    'Label_size':12,\n",
    "    'title_loc':'right',\n",
    "    'fontParams':'Arial',\n",
    "    'wpth':wpth}\n",
    "F=figmaster(mySetting)\n",
    "\n",
    "myN=16\n",
    "mylim=[-.05,.05]\n",
    "\n",
    "CMAP_salt,mylevel_salt=myClrbr('salt',mylim,myN)\n",
    "\n"
   ]
  },
  {
   "cell_type": "code",
   "execution_count": 55,
   "metadata": {},
   "outputs": [],
   "source": [
    "myN=16\n",
    "mylim=[-.015,.015]\n",
    "\n",
    "CMAP_salt,mylevel_salt=myClrbr('salt',mylim,myN)\n",
    "for i in temp_1Y:\n",
    "    data=i.values\n",
    "    data[data>mylim[-1]]=mylim[-1]\n",
    "    data[data<mylim[0]]=mylim[0]\n",
    "\n",
    "    time=str(i.time.values)[:7]\n",
    "    \n",
    "    dta_nm=varnm+'\\n'+\\\n",
    "        str(lon_rng[0])+'~'+str(lon_rng[-1])+'E '+time\n",
    "    dta_snm=varnm+''+\\\n",
    "        str(lat_rng[0])+'S'+str(lat_rng[-1])+'S'+' '+str(lon_rng[0])+'E'+str(lon_rng[-1])+'E_'+\\\n",
    "            time\n",
    "            \n",
    "    dta_snm=wpth+dta_snm.replace(' ','_').replace('salt','salinity').replace('-','')\n",
    "    dta_nm=dta_nm.replace('salt','salinity').replace('-','')\n",
    "    \n",
    "    F.Vertical_data_drift01(latR_m,-depthR_m,data,CMAP_salt,\\\n",
    "        mylevel_salt,dta_nm,dta_snm)\n",
    "\n",
    "    "
   ]
  },
  {
   "cell_type": "code",
   "execution_count": null,
   "metadata": {},
   "outputs": [
    {
     "name": "stdout",
     "output_type": "stream",
     "text": [
      "<xarray.DataArray 'salt' ()>\n",
      "array(0.01891769)\n",
      "Coordinates:\n",
      "    time     datetime64[ns] 2003-07-15\n",
      "<xarray.DataArray 'salt' ()>\n",
      "array(-0.01733979)\n",
      "Coordinates:\n",
      "    time     datetime64[ns] 2003-07-15\n"
     ]
    }
   ],
   "source": [
    "print(np.max(i))\n",
    "print(np.min(i))"
   ]
  },
  {
   "cell_type": "code",
   "execution_count": null,
   "metadata": {},
   "outputs": [],
   "source": []
  }
 ],
 "metadata": {
  "kernelspec": {
   "display_name": "nemo_env",
   "language": "python",
   "name": "python3"
  },
  "language_info": {
   "codemirror_mode": {
    "name": "ipython",
    "version": 3
   },
   "file_extension": ".py",
   "mimetype": "text/x-python",
   "name": "python",
   "nbconvert_exporter": "python",
   "pygments_lexer": "ipython3",
   "version": "3.9.17"
  }
 },
 "nbformat": 4,
 "nbformat_minor": 2
}
