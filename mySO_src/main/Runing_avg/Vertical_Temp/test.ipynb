{
 "cells": [
  {
   "cell_type": "code",
   "execution_count": 1,
   "metadata": {},
   "outputs": [],
   "source": [
    "import matplotlib.pyplot as plt\n",
    "import xarray as xr\n",
    "import pickle\n",
    "from mpl_toolkits.axes_grid1 import make_axes_locatable\n",
    "import sys\n",
    "import matplotlib as mpl\n",
    "from scipy.interpolate import griddata \n",
    "import warnings\n",
    "import os\n",
    "import numpy as np\n",
    "sys.path.append('C:/Users/shjo/Bridge/JNUpack/SO/libs/')\n",
    "warnings.filterwarnings('ignore')\n",
    "from myTools import myInfo\n",
    "from myTrend import myfitting2d_sttcs,myRegress3d_sttcs\n",
    "from myPlot import  figmaster,myClrbr, dta_colr\n",
    "# import matplotlib as mpl\n",
    "# mpl.use('agg')"
   ]
  },
  {
   "cell_type": "code",
   "execution_count": 2,
   "metadata": {},
   "outputs": [],
   "source": [
    "### ======================================================================\n",
    "\n",
    "pthMO='J:/MDLS_OBS_OHC/'\n",
    "\n",
    "wpth='C:/Users/shjo/OneDrive/mySO/Regression_IMFs/'\n",
    "\n",
    "ModeN=5\n",
    "varnm='temp'\n",
    "t_rng=['1993-01', '2017-12']\n",
    "d_rng=[0,2000]\n",
    "lat_rng=[-75,-30]; lon_rng=[230,250]"
   ]
  },
  {
   "cell_type": "code",
   "execution_count": null,
   "metadata": {},
   "outputs": [],
   "source": [
    "wpth=wpth+varnm+'_'+str(t_rng[0][:4])+'_'+str(t_rng[-1][:4])+'_'+\\\n",
    "    str(lat_rng[0])+'S'+str(lat_rng[-1])+'S'+'_'+str(lon_rng[0])+\\\n",
    "        'E'+str(lon_rng[-1])+'E'+'_'+f'{ModeN:02d}'+'mode'+'/'\n",
    "wpth=wpth.replace('-','')\n",
    "try :\n",
    "    os.mkdir(wpth)\n",
    "    loc=sys._getframe().f_code.co_filename\n",
    "    myInfo(loc,wpth)\n",
    "except:\n",
    "    raise"
   ]
  },
  {
   "cell_type": "code",
   "execution_count": null,
   "metadata": {},
   "outputs": [],
   "source": [
    "\n",
    "myMDOB=[pthMO+i for i in os.listdir(pthMO) if i.endswith('.nc')]\n",
    "myDATA=myMDOB\n",
    "if int(t_rng[0].split('-')[0])<1992:\n",
    "    myDATA=[i for i in myDATA if not i.split('/')[-1].startswith('myECCO')]\n",
    "\n",
    "### Read Data ==============================================================\n",
    "for i in myDATA:\n",
    "    print('!!! Open: '+i+' !!!')\n",
    "    tmp=xr.open_dataset(i)\n",
    "\n",
    "    mydata = tmp[varnm].loc[dict(lat=slice(lat_rng[0],lat_rng[-1]),lon=slice(lon_rng[0],lon_rng[-1])\\\n",
    "        ,time=slice(t_rng[0],t_rng[-1]),depth=slice(d_rng[0],d_rng[-1]))]\n",
    "    mydata=mydata.where(mydata<10**30)\n",
    "    mydata=mydata.mean(dim='lon',skipna=True)\n",
    "    mydata_tm=mydata.rolling(time=12).mean()\n",
    "    \n",
    "    time,depthR,latR=mydata.time.values,mydata.depth.values,mydata.lat.values\n",
    "    dta_nm=i.split('/')[-1][2:-3].split('_')[0]+' '+varnm+' regression (imf'+f'{ModeN:02d}'+')\\n'+\\\n",
    "        str(lon_rng[0])+'~'+str(lon_rng[-1])+'E '+str(time[0])[:4]+' '+str(time[-1])[:4]\n",
    "    dta_snm=i.split('/')[-1][2:-3].split('_')[0]+' '+varnm+' regression imf'+f'{ModeN:02d}_'+\\\n",
    "        str(lat_rng[0])+'S'+str(lat_rng[-1])+'S'+' '+str(lon_rng[0])+'E'+str(lon_rng[-1])+'E_'+\\\n",
    "            str(time[0])[:4]+' '+str(time[-1])[:4]\n",
    "    dta_snm=wpth+dta_snm.replace(' ','_').replace('salt','salinity').replace('-','')\n",
    "    dta_nm=dta_nm.replace('salt','salinity').replace('-','')\n",
    "    \n",
    "    myN=16\n",
    "    mylim=[-1.,1.]\n",
    "    CMAP,mylevel=myClrbr('myblc2',mylim,myN)\n",
    "    CMAP_salt,mylevel_salt=myClrbr('salt',mylim,myN)\n",
    "    CMAP_temp,mylevel_temp=myClrbr('balance',mylim,myN)\n",
    "\n",
    "    latR_m,depthR_m=np.meshgrid(latR,depthR)\n",
    "\n",
    "    CoefD[CoefD<mylim[0]]=mylim[0]\n",
    "    CoefD[CoefD>mylim[-1]]=mylim[-1]\n",
    "    mySetting={\n",
    "        'figsize': '',\n",
    "        'mylabel': '',\n",
    "        'Label_size':12,\n",
    "        'title_loc':'right',\n",
    "        'fontParams':'Arial',\n",
    "        'wpth':wpth}\n",
    "    F=figmaster(mySetting)\n",
    "    \n",
    "    # F.Vertical_data_drift01(latR_m,-depthR_m,CoefD,CMAP_salt,mylevel_salt,dta_nm,dta_snm)\n",
    "    F.Vertical_data_drift02(latR_m,-depthR_m,CoefD,mydata_tm,CMAP_temp,mylevel_temp,dta_nm,dta_snm)\n",
    "    # F.Vertical_data_drift_sttc(latR_m,-depthR_m,CoefD,smask,CMAP_salt,mylevel_salt,dta_nm,dta_snm)\n",
    "    # raise\n",
    "    "
   ]
  }
 ],
 "metadata": {
  "kernelspec": {
   "display_name": "nemo_env",
   "language": "python",
   "name": "python3"
  },
  "language_info": {
   "codemirror_mode": {
    "name": "ipython",
    "version": 3
   },
   "file_extension": ".py",
   "mimetype": "text/x-python",
   "name": "python",
   "nbconvert_exporter": "python",
   "pygments_lexer": "ipython3",
   "version": "3.9.17"
  }
 },
 "nbformat": 4,
 "nbformat_minor": 2
}
