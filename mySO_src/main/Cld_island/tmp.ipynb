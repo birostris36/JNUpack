{
 "cells": [
  {
   "cell_type": "code",
   "execution_count": 1,
   "metadata": {},
   "outputs": [],
   "source": [
    "from scipy import io\n",
    "import numpy as np\n",
    "import pandas as pd\n",
    "import os \n",
    "import pickle\n",
    "import matplotlib.pyplot as plt\n",
    "import sys\n",
    "sys.path.append('C:/Users/shjo/Bridge/JNUpack/mySO_src/libs/')\n",
    "from myPlot import  figmaster,myClrbr, dta_colr\n",
    "import matplotlib as mpl\n",
    "mpl.use('agg')\n",
    "\n",
    "t_rng=['1993-01','2022-12']\n",
    "\n",
    "npth ='C:/Users/shjo/OneDrive/mySO/Cld_island/TimeSeries/OHC700_1960_2020_200E220E_60S53S/OHC700_1960_2020_200E220E_60S53S.pickle'\n",
    "\n",
    "wpth='C:/Users/shjo/OneDrive/mySO/Cld_island/TimeSeries_figs/'\n",
    "\n",
    "\n",
    "with open(npth, 'rb') as f:\n",
    "    mySig = pickle.load(f)\n",
    "mySig=mySig[t_rng[0]:t_rng[-1]]\n",
    "\n",
    "mySig=mySig.rolling(window=12,center=True).mean()"
   ]
  },
  {
   "cell_type": "code",
   "execution_count": 2,
   "metadata": {},
   "outputs": [
    {
     "ename": "IndexError",
     "evalue": "list index out of range",
     "output_type": "error",
     "traceback": [
      "\u001b[1;31m---------------------------------------------------------------------------\u001b[0m",
      "\u001b[1;31mIndexError\u001b[0m                                Traceback (most recent call last)",
      "Cell \u001b[1;32mIn[2], line 3\u001b[0m\n\u001b[0;32m      1\u001b[0m MyFigNM\u001b[38;5;241m=\u001b[39mnpth\u001b[38;5;241m.\u001b[39msplit(\u001b[38;5;124m'\u001b[39m\u001b[38;5;124m/\u001b[39m\u001b[38;5;124m'\u001b[39m)[\u001b[38;5;241m-\u001b[39m\u001b[38;5;241m1\u001b[39m]\u001b[38;5;241m.\u001b[39msplit(\u001b[38;5;124m'\u001b[39m\u001b[38;5;124m.\u001b[39m\u001b[38;5;124m'\u001b[39m)[\u001b[38;5;241m0\u001b[39m]\n\u001b[0;32m      2\u001b[0m tmp\u001b[38;5;241m=\u001b[39mMyFigNM\u001b[38;5;241m.\u001b[39mreplace(\u001b[38;5;124m'\u001b[39m\u001b[38;5;124m_\u001b[39m\u001b[38;5;124m'\u001b[39m,\u001b[38;5;124m'\u001b[39m\u001b[38;5;124m \u001b[39m\u001b[38;5;124m'\u001b[39m)\u001b[38;5;241m.\u001b[39msplit(\u001b[38;5;124m'\u001b[39m\u001b[38;5;124m \u001b[39m\u001b[38;5;124m'\u001b[39m)\n\u001b[1;32m----> 3\u001b[0m MyFigTN\u001b[38;5;241m=\u001b[39mtmp[\u001b[38;5;241m0\u001b[39m]\u001b[38;5;241m+\u001b[39m\u001b[38;5;124m'\u001b[39m\u001b[38;5;124m \u001b[39m\u001b[38;5;124m'\u001b[39m\u001b[38;5;241m+\u001b[39mtmp[\u001b[38;5;241m1\u001b[39m]\u001b[38;5;241m+\u001b[39m\u001b[38;5;124m'\u001b[39m\u001b[38;5;124m \u001b[39m\u001b[38;5;124m'\u001b[39m\u001b[38;5;241m+\u001b[39mtmp[\u001b[38;5;241m2\u001b[39m]\u001b[38;5;241m+\u001b[39m\u001b[38;5;124m'\u001b[39m\u001b[38;5;130;01m\\n\u001b[39;00m\u001b[38;5;124m'\u001b[39m\u001b[38;5;241m+\u001b[39mtmp[\u001b[38;5;241m3\u001b[39m]\u001b[38;5;241m+\u001b[39m\u001b[38;5;124m'\u001b[39m\u001b[38;5;124m \u001b[39m\u001b[38;5;124m'\u001b[39m\u001b[38;5;241m+\u001b[39mtmp[\u001b[38;5;241m4\u001b[39m]\u001b[38;5;241m+\u001b[39m\u001b[38;5;124m'\u001b[39m\u001b[38;5;124m \u001b[39m\u001b[38;5;124m'\u001b[39m\u001b[38;5;241m+\u001b[39m\u001b[43mtmp\u001b[49m\u001b[43m[\u001b[49m\u001b[38;5;241;43m5\u001b[39;49m\u001b[43m]\u001b[49m\n\u001b[0;32m      5\u001b[0m myTimeN\u001b[38;5;241m=\u001b[39m\u001b[38;5;241m12\u001b[39m\n\u001b[0;32m      6\u001b[0m myTimeF\u001b[38;5;241m=\u001b[39m\u001b[38;5;241m3\u001b[39m\n",
      "\u001b[1;31mIndexError\u001b[0m: list index out of range"
     ]
    }
   ],
   "source": [
    "\n",
    "MyFigNM=npth.split('/')[-1].split('.')[0]\n",
    "tmp=MyFigNM.replace('_',' ').split(' ')\n",
    "if len(tmp)>=5:\n",
    "    MyFigTN=tmp[0]+' '+tmp[1]+' '+tmp[2]+'\\n'+tmp[3]+' '+tmp[4]+' '+tmp[5]\n",
    "else:\n",
    "    MyFigTN=tmp[0]+' '+tmp[1]+' '+tmp[2]+'\\n'+tmp[3]\n",
    "myTimeN=12\n",
    "myTimeF=3\n",
    "\n",
    "Label_size = 18\n",
    "myNm=mySig.columns\n",
    "TIME=mySig.index\n",
    "\n",
    "fig, axs = plt.subplots(1,1,figsize=(9,3.7),constrained_layout = True,dpi=200)\n",
    "for i in myNm:\n",
    "    f1 = axs.plot(TIME,mySig[i], label='',color='grey',linewidth=2,zorder=0)\n",
    "axs.plot(TIME,mySig.mean(axis=1),label='Ensembled',linewidth=3,color='r',zorder=0)\n",
    "axs.set_title(MyFigTN,loc='right',fontdict={'fontsize':20,'fontweight':'regular'})\n",
    "axs.tick_params(axis='both', labelsize=Label_size)\n",
    "axs.grid(axis='x',linestyle='-.')\n",
    "xtick_location = TIME[12::myTimeN*myTimeF]\n",
    "xtick_labels = TIME.strftime('%Y')[12::myTimeN*myTimeF]\n",
    "axs.set_xticks(ticks=xtick_location)\n",
    "plt.legend(fontsize='13',loc='upper right')\n",
    "axs.set_xticklabels(xtick_labels, rotation=0, fontsize=Label_size, alpha=1)\n",
    "axs.tick_params(axis='x', direction='in', length=6, pad=8, labelsize=Label_size, labelcolor='k', top=True,width=1.)\n",
    "axs.tick_params(axis='y', direction='in', length=6, pad=8, labelsize=Label_size-3, width=1., color='k')\n",
    "plt.tight_layout()\n",
    "if 1:\n",
    "    # plt.savefig(w_path+Dir_pth+'/ppt/'+save_name,\n",
    "    #         facecolor='none',edgecolor='none',bbox_inches='tight',transparent=True)\n",
    "    plt.savefig(wpth+MyFigNM+'_ensembled',bbox_inches='tight')\n",
    "plt.show()             \n",
    "\n",
    "\n",
    "fig, axs = plt.subplots(1,1,figsize=(9,3.7),constrained_layout = True,dpi=200)\n",
    "for i in myNm:\n",
    "    f1 = axs.plot(TIME,mySig[i], label=i,color=dta_colr(i),linewidth=2)\n",
    "# axs.plot(TIME,myEEMDS.mean(axis=1),label='Ensembled',linewidth=3,color='r',zorder=0)\n",
    "axs.set_title(MyFigTN,loc='right',fontdict={'fontsize':20,'fontweight':'regular'})\n",
    "axs.tick_params(axis='both', labelsize=Label_size)\n",
    "axs.grid(axis='x',linestyle='-.')\n",
    "xtick_location = TIME[12::myTimeN*myTimeF]\n",
    "xtick_labels = TIME.strftime('%Y')[12::myTimeN*myTimeF]\n",
    "axs.set_xticks(ticks=xtick_location)\n",
    "plt.legend()\n",
    "axs.set_xticklabels(xtick_labels, rotation=0, fontsize=Label_size, alpha=1)\n",
    "axs.tick_params(axis='x', direction='in', length=6, pad=8, labelsize=Label_size, labelcolor='k', top=True,width=1.)\n",
    "axs.tick_params(axis='y', direction='in', length=6, pad=8, labelsize=Label_size-3, width=1., color='k')\n",
    "plt.tight_layout()\n",
    "if 1:\n",
    "    # plt.savefig(w_path+Dir_pth+'/ppt/'+save_name,\n",
    "    #         facecolor='none',edgecolor='none',bbox_inches='tight',transparent=True)\n",
    "    plt.savefig(wpth+MyFigNM,bbox_inches='tight')\n",
    "plt.show()\n",
    "\n",
    "\n"
   ]
  },
  {
   "cell_type": "code",
   "execution_count": 3,
   "metadata": {},
   "outputs": [
    {
     "data": {
      "text/plain": [
       "['OHC700', '1960', '2020', '200E220E', '60S53S']"
      ]
     },
     "execution_count": 3,
     "metadata": {},
     "output_type": "execute_result"
    }
   ],
   "source": [
    "tmp"
   ]
  },
  {
   "cell_type": "code",
   "execution_count": null,
   "metadata": {},
   "outputs": [],
   "source": []
  }
 ],
 "metadata": {
  "kernelspec": {
   "display_name": "nemo_env",
   "language": "python",
   "name": "python3"
  },
  "language_info": {
   "codemirror_mode": {
    "name": "ipython",
    "version": 3
   },
   "file_extension": ".py",
   "mimetype": "text/x-python",
   "name": "python",
   "nbconvert_exporter": "python",
   "pygments_lexer": "ipython3",
   "version": "3.9.17"
  }
 },
 "nbformat": 4,
 "nbformat_minor": 2
}
