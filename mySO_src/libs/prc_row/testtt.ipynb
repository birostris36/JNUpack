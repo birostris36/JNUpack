{
 "cells": [
  {
   "cell_type": "code",
   "execution_count": 1,
   "metadata": {},
   "outputs": [],
   "source": [
    "import sys\n",
    "sys.path.append('C:/Users/shjo/Bridge/JNUpack/SO/libs/')\n",
    "import matplotlib as mpl\n",
    "# mpl.use('agg')\n",
    "import os\n",
    "import numpy as np\n",
    "import haversine\n",
    "from netCDF4 import Dataset\n",
    "import pickle\n",
    "from copy import deepcopy\n",
    "import xarray as xr\n",
    "from myTrend import myfitting2d_sttcs,myfitting1d_sttcs\n",
    "from myPlot import  figmaster,myClrbr, dta_colr\n",
    "import matplotlib.pyplot as plt\n",
    "from scipy.interpolate import griddata \n",
    "from haversine import haversine\n",
    "import warnings\n",
    "warnings.filterwarnings('ignore')\n",
    "\n",
    "pthMO='J:/MDLS_OBS_OHC/Area_data/'\n",
    "\n",
    "t_rng=[1993, 2020]\n",
    "\n",
    "myMDOB=[pthMO+i for i in os.listdir(pthMO) if i.endswith('.nc')]"
   ]
  },
  {
   "cell_type": "code",
   "execution_count": 2,
   "metadata": {},
   "outputs": [
    {
     "name": "stdout",
     "output_type": "stream",
     "text": [
      "J:/MDLS_OBS_OHC/Area_data/myECCO_199201_201712_tsh.nc\n",
      "J:/MDLS_OBS_OHC/Area_data/myEN4_198001_202012_tsh.nc\n",
      "J:/MDLS_OBS_OHC/Area_data/myGECCO_198001_201812_ztshuv.nc\n",
      "J:/MDLS_OBS_OHC/Area_data/myIAP_198001_201812_tshuv.nc\n",
      "J:/MDLS_OBS_OHC/Area_data/myIAP_198001_201812_tshuv_real.nc\n",
      "J:/MDLS_OBS_OHC/Area_data/myISHII_198001_201912_tsh.nc\n"
     ]
    }
   ],
   "source": [
    "score = lambda x: x-360 if x > 180 else x\n",
    "\n",
    "for i in myMDOB:\n",
    "    print(i)\n",
    "    tmp=Dataset(i,'r')\n",
    "    lon,lat=tmp['lon'][:],tmp['lat'][:]\n",
    "    ### ==================================================\n",
    "    lon_dist,lat_dist=[],[]\n",
    "    for i in lat:\n",
    "        lon_dist.append(haversine( (i,lon[0]),(i,lon[1]) ))\n",
    "    for i in lon:\n",
    "        lat_dist.append(haversine( (lat[0],score(i)),(lon[1],score(i)) ))\n",
    "    lon_dist=np.array(lon_dist)\n",
    "    lat_dist=np.array(lat_dist)\n",
    "    ### ==================================================\n",
    "    lon_dist_=deepcopy(lon_dist).reshape(len(lat),1)\n",
    "    i=0\n",
    "    while i < len(lon)-1:\n",
    "        i+=1\n",
    "        lon_dist_=np.concatenate([lon_dist_,lon_dist.reshape(len(lat),1)],axis=1)\n",
    "        \n",
    "    lat_dist_=deepcopy(lat_dist).reshape(1,len(lon))\n",
    "    i=0\n",
    "    while i < len(lat)-1:\n",
    "        i+=1\n",
    "        lat_dist_=np.concatenate([lat_dist_,lat_dist.reshape(1,len(lon))],axis=0)\n",
    "    ### ==================================================\n",
    "    Area=lon_dist_*lon_dist_\n",
    "    \n",
    "    myArea = tmp.createVariable('Area',np.float64,('lat','lon'),compression='zlib') #\n",
    "    myArea.units = 'km^2' \n",
    "    myArea.long_name = 'Area' \n",
    "    myArea.coordinates = \"lat, lon\"\n",
    "    myArea[:]=Area\n",
    "    tmp.close()\n",
    "    \n",
    "    "
   ]
  },
  {
   "cell_type": "code",
   "execution_count": 5,
   "metadata": {},
   "outputs": [],
   "source": []
  },
  {
   "cell_type": "code",
   "execution_count": 3,
   "metadata": {},
   "outputs": [
    {
     "ename": "NameError",
     "evalue": "name 'Area' is not defined",
     "output_type": "error",
     "traceback": [
      "\u001b[1;31m---------------------------------------------------------------------------\u001b[0m",
      "\u001b[1;31mNameError\u001b[0m                                 Traceback (most recent call last)",
      "\u001b[1;32mc:\\Users\\shjo\\Bridge\\JNUpack\\SO\\DATA\\testtt.ipynb Cell 4\u001b[0m line \u001b[0;36m1\n\u001b[1;32m----> <a href='vscode-notebook-cell:/c%3A/Users/shjo/Bridge/JNUpack/SO/DATA/testtt.ipynb#X11sZmlsZQ%3D%3D?line=0'>1</a>\u001b[0m Area\n",
      "\u001b[1;31mNameError\u001b[0m: name 'Area' is not defined"
     ]
    }
   ],
   "source": [
    "Area"
   ]
  },
  {
   "cell_type": "code",
   "execution_count": 3,
   "metadata": {},
   "outputs": [
    {
     "data": {
      "text/plain": [
       "array([[0.05884918, 0.05884918, 0.05884918, ..., 0.05884918, 0.05884918,\n",
       "        0.05884918],\n",
       "       [0.5296157 , 0.5296157 , 0.5296157 , ..., 0.5296157 , 0.5296157 ,\n",
       "        0.5296157 ],\n",
       "       [1.47100536, 1.47100536, 1.47100536, ..., 1.47100536, 1.47100536,\n",
       "        1.47100536],\n",
       "       ...,\n",
       "       [1.47100536, 1.47100536, 1.47100536, ..., 1.47100536, 1.47100536,\n",
       "        1.47100536],\n",
       "       [0.5296157 , 0.5296157 , 0.5296157 , ..., 0.5296157 , 0.5296157 ,\n",
       "        0.5296157 ],\n",
       "       [0.05884918, 0.05884918, 0.05884918, ..., 0.05884918, 0.05884918,\n",
       "        0.05884918]])"
      ]
     },
     "execution_count": 3,
     "metadata": {},
     "output_type": "execute_result"
    }
   ],
   "source": [
    "Area"
   ]
  },
  {
   "cell_type": "code",
   "execution_count": 8,
   "metadata": {},
   "outputs": [],
   "source": []
  },
  {
   "cell_type": "code",
   "execution_count": null,
   "metadata": {},
   "outputs": [],
   "source": []
  }
 ],
 "metadata": {
  "kernelspec": {
   "display_name": "nemo_env",
   "language": "python",
   "name": "python3"
  },
  "language_info": {
   "codemirror_mode": {
    "name": "ipython",
    "version": 3
   },
   "file_extension": ".py",
   "mimetype": "text/x-python",
   "name": "python",
   "nbconvert_exporter": "python",
   "pygments_lexer": "ipython3",
   "version": "3.9.17"
  },
  "orig_nbformat": 4
 },
 "nbformat": 4,
 "nbformat_minor": 2
}
