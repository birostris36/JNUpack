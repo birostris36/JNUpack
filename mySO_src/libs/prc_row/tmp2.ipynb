{
 "cells": [
  {
   "cell_type": "code",
   "execution_count": 26,
   "metadata": {},
   "outputs": [],
   "source": [
    "from netCDF4 import MFDataset,Dataset,num2date,date2num\n",
    "import numpy as np\n",
    "import datetime as dt\n",
    "import xarray as xr\n",
    "import os\n",
    "\n",
    "GECCO_pth='E:/_data/GECCO/'\n",
    "wnpth='J:/Reanalysis/myGECCO_199201_201712_ztsuv.nc'\n",
    "\n",
    "Sample=Dataset(GECCO_pth+'GECCO_SALT_194801_201812_ori.nc')\n",
    "\n",
    "LAT,LON=Sample['lat'][:],Sample['lon'][:]\n",
    "DEPTH=Sample['Depth'][:]\n"
   ]
  },
  {
   "cell_type": "code",
   "execution_count": 16,
   "metadata": {},
   "outputs": [],
   "source": [
    "posi_co,nega_co=np.where(LON>=0)[0],np.where(LON<0)[0]\n",
    "LON_re=np.concatenate( [LON[posi_co],LON[nega_co]+360],axis=0 )"
   ]
  },
  {
   "cell_type": "code",
   "execution_count": 3,
   "metadata": {},
   "outputs": [],
   "source": [
    "# Process Times\n",
    "tmp_time_var='time'\n",
    "t_rng=['1980-01','2020-12']\n",
    "My_time_ref='days since 1970-1-1 00:00:00'\n",
    "OGCM_TIMES=Sample[tmp_time_var]\n",
    "TIME_UNIT=OGCM_TIMES.units\n",
    "OGCM_times=num2date(OGCM_TIMES[:],TIME_UNIT)\n",
    "Tst=dt.datetime(int(t_rng[0].split('-')[0]), int(t_rng[0].split('-')[1]),1)\n",
    "Ted=dt.datetime(int(t_rng[1].split('-')[0]), int(t_rng[1].split('-')[1]),31)\n",
    "TIMES_co=np.where( (OGCM_times>=Tst)&(OGCM_times<=Ted) )[0]\n",
    "# =============================================================================\n",
    "tmp_y,tmp_m=int(t_rng[0].split('-')[0]),int(t_rng[0].split('-')[-1])\n",
    "tmp_dif=date2num(dt.datetime(tmp_y,tmp_m,1),TIME_UNIT)-date2num(dt.datetime(tmp_y,tmp_m,1),My_time_ref)\n",
    "my_time=num2date(OGCM_TIMES[TIMES_co]-tmp_dif,My_time_ref)\n",
    "my_time_num=OGCM_TIMES[TIMES_co]-tmp_dif"
   ]
  },
  {
   "cell_type": "code",
   "execution_count": 17,
   "metadata": {},
   "outputs": [],
   "source": [
    "GECCO_ZETA = Dataset(GECCO_pth+'GECCO_ZETA_194801_201812_ori.nc')['zeta'][TIMES_co,:,:]\n",
    "\n",
    "GECCO_SALT = Dataset(GECCO_pth+'GECCO_SALT_194801_201812_ori.nc')['salt'][TIMES_co,:,:,:]\n",
    "GECCO_TEMP = Dataset(GECCO_pth+'GECCO_TEMP_194801_201812_ori.nc')['temp'][TIMES_co,:,:,:]\n",
    "\n",
    "GECCO_UVEL = Dataset(GECCO_pth+'GECCO_UVEL_194801_201812_ori.nc')['u'][TIMES_co,:,:,:]\n",
    "GECCO_VVEL = Dataset(GECCO_pth+'GECCO_VVEL_194801_201812_ori.nc')['v'][TIMES_co,:,:,:]"
   ]
  },
  {
   "cell_type": "code",
   "execution_count": 18,
   "metadata": {},
   "outputs": [],
   "source": [
    "GECCO_ZETA_re=np.concatenate( [GECCO_ZETA[:,:,posi_co], GECCO_ZETA[:,:,nega_co]] ,axis=2)\n",
    "\n",
    "GECCO_TEMP_re=np.concatenate( [GECCO_TEMP[:,:,:,posi_co], GECCO_TEMP[:,:,:,nega_co]] ,axis=3)\n",
    "GECCO_SALT_re=np.concatenate( [GECCO_SALT[:,:,:,posi_co], GECCO_SALT[:,:,:,nega_co]] ,axis=3)\n",
    "GECCO_UVEL_re=np.concatenate( [GECCO_UVEL[:,:,:,posi_co], GECCO_UVEL[:,:,:,nega_co]] ,axis=3)\n",
    "GECCO_VVEL_re=np.concatenate( [GECCO_VVEL[:,:,:,posi_co], GECCO_VVEL[:,:,:,nega_co]] ,axis=3)\n"
   ]
  },
  {
   "cell_type": "code",
   "execution_count": 24,
   "metadata": {},
   "outputs": [],
   "source": [
    "def myOGCM(nc_save_name,LON,LAT,DEPTH,TIME,Ref_time,values1,values2,values3,values4,values5):\n",
    "    \n",
    "    ncfile = Dataset(nc_save_name,mode='w',format='NETCDF4')\n",
    "\n",
    "    ncfile.createDimension('lat', len(LAT))\n",
    "    ncfile.createDimension('lon', len(LON))\n",
    "    ncfile.createDimension('depth',len(DEPTH))\n",
    "    ncfile.createDimension('time',len(TIME))\n",
    "    \n",
    "    ncfile.title='My GECCO data '\n",
    "    \n",
    "    lat = ncfile.createVariable('lat', np.float32, ('lat',))\n",
    "    lat.units = 'degrees_north'\n",
    "    lon = ncfile.createVariable('lon', np.float32, ('lon',))\n",
    "    lon.units = 'degrees_east'\n",
    "    depth = ncfile.createVariable('depth', np.float32, ('depth',))\n",
    "    depth.units = 'depth_m'\n",
    "    time = ncfile.createVariable('time', np.float64, ('time',))\n",
    "    time.units=Ref_time\n",
    "    time.field='time, scalar, series'\n",
    "    # time.cycle_length=cycle\n",
    "    \n",
    "    DATA1 = ncfile.createVariable('temp',np.float64,('time','depth','lat','lon'),compression='zlib') #\n",
    "    DATA1.units = 'degree_C' \n",
    "    DATA1.long_name = 'GECCO temp' \n",
    "    DATA1.coordinates = \"time, depth, lat, lon\"\n",
    "    \n",
    "    DATA2 = ncfile.createVariable('salt',np.float64,('time','depth','lat','lon'),compression='zlib') \n",
    "    DATA2.units = 'g kg-1' \n",
    "    DATA2.long_name = 'GECCO salt' \n",
    "    DATA2.coordinates = \"time, depth, lat, lon\"\n",
    "\n",
    "    DATA3 = ncfile.createVariable('u',np.float64,('time','depth','lat','lon'),compression='zlib') \n",
    "    DATA3.units = 'meter second-1' \n",
    "    DATA3.long_name = 'Eastward velocity' \n",
    "    DATA3.coordinates = \"time, depth, lat, lon\"\n",
    "    \n",
    "    DATA4 = ncfile.createVariable('v',np.float64,('time','depth','lat','lon'),compression='zlib') \n",
    "    DATA4.units = 'meter second-1' \n",
    "    DATA4.long_name = 'Northward velocity' \n",
    "    DATA4.coordinates = \"time, depth, lat, lon\"\n",
    "    \n",
    "    DATA5 = ncfile.createVariable('zeta',np.float64,('time','lat','lon'),compression='zlib') \n",
    "    DATA5.units = 'meter' \n",
    "    DATA5.long_name = 'model ssh' #\n",
    "    DATA5.coordinates = \"time, lat, lon\"\n",
    "\n",
    "    # Data.field=Var.field\n",
    "    lat[:] = LAT\n",
    "    lon[:] = LON\n",
    "    depth[:]= DEPTH\n",
    "    time[:] = TIME \n",
    "     \n",
    "    DATA1[:] = values1\n",
    "    DATA2[:] = values2\n",
    "    DATA3[:] = values3\n",
    "    DATA4[:] = values4\n",
    "    DATA5[:] = values5\n",
    "\n",
    "    ncfile.close()"
   ]
  },
  {
   "cell_type": "code",
   "execution_count": 27,
   "metadata": {},
   "outputs": [],
   "source": [
    "myOGCM(wnpth,LON_re,LAT,DEPTH,my_time_num,My_time_ref,\\\n",
    "    GECCO_TEMP_re,GECCO_SALT_re,\\\n",
    "        GECCO_UVEL_re,GECCO_VVEL_re,GECCO_ZETA_re)"
   ]
  },
  {
   "cell_type": "code",
   "execution_count": null,
   "metadata": {},
   "outputs": [],
   "source": []
  }
 ],
 "metadata": {
  "kernelspec": {
   "display_name": "nemo_env",
   "language": "python",
   "name": "python3"
  },
  "language_info": {
   "codemirror_mode": {
    "name": "ipython",
    "version": 3
   },
   "file_extension": ".py",
   "mimetype": "text/x-python",
   "name": "python",
   "nbconvert_exporter": "python",
   "pygments_lexer": "ipython3",
   "version": "3.9.17"
  },
  "orig_nbformat": 4
 },
 "nbformat": 4,
 "nbformat_minor": 2
}
