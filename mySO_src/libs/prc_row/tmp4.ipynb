{
 "cells": [
  {
   "cell_type": "code",
   "execution_count": 42,
   "metadata": {},
   "outputs": [],
   "source": [
    "from netCDF4 import MFDataset,Dataset,num2date,date2num\n",
    "import numpy as np\n",
    "import datetime as dt\n",
    "import xarray as xr\n",
    "from numpy import ma\n",
    "import os\n",
    "npth='D:/HADISST/HadISST_sst/HadISST_sst.nc'\n",
    "wnpth='J:/Reanalysis/myHadlSST_198001_202312_sst.nc'"
   ]
  },
  {
   "cell_type": "code",
   "execution_count": 25,
   "metadata": {},
   "outputs": [],
   "source": [
    "Sample=Dataset(npth)\n",
    "LAT,LON=np.flipud(Sample['latitude'][:]),Sample['longitude'][:]\n",
    "posi_co,nega_co=np.where(LON>=0)[0],np.where(LON<0)[0]\n",
    "LON=np.concatenate([LON[posi_co],LON[nega_co]+360] ,axis=0)"
   ]
  },
  {
   "cell_type": "code",
   "execution_count": 20,
   "metadata": {},
   "outputs": [],
   "source": [
    "# Process Times\n",
    "tmp_time_var='time'\n",
    "t_rng=['1980-01','2023-12']\n",
    "My_time_ref='days since 1970-1-1 00:00:00'\n",
    "OGCM_TIMES=Sample['time'][:]\n",
    "TIME_UNIT=Sample['time'].units\n",
    "OGCM_times=num2date(OGCM_TIMES[:],TIME_UNIT)\n",
    "Tst=dt.datetime(int(t_rng[0].split('-')[0]), int(t_rng[0].split('-')[1]),1)\n",
    "Ted=dt.datetime(int(t_rng[1].split('-')[0]), int(t_rng[1].split('-')[1]),31)\n",
    "TIMES_co=np.where( (OGCM_times>=Tst)&(OGCM_times<=Ted) )[0]\n",
    "# =============================================================================\n",
    "tmp_y,tmp_m=int(t_rng[0].split('-')[0]),int(t_rng[0].split('-')[-1])\n",
    "tmp_dif=date2num(dt.datetime(tmp_y,tmp_m,1),TIME_UNIT)-date2num(dt.datetime(tmp_y,tmp_m,1),My_time_ref)\n",
    "my_time=num2date(OGCM_TIMES[TIMES_co]-tmp_dif,My_time_ref)\n",
    "my_time_num=OGCM_TIMES[TIMES_co]-tmp_dif"
   ]
  },
  {
   "cell_type": "code",
   "execution_count": 45,
   "metadata": {},
   "outputs": [],
   "source": [
    "HadlSST = np.flip(Dataset(npth)['sst'][TIMES_co,:,:],axis=1)\n",
    "HadlSST=np.concatenate([HadlSST[:,:,posi_co],HadlSST[:,:,nega_co]],axis=2)\n",
    "HadlSST[HadlSST<=-1000]=np.nan\n",
    "mask=(HadlSST!=HadlSST).data\n",
    "HadlSST=ma.array(HadlSST,mask=mask)"
   ]
  },
  {
   "cell_type": "code",
   "execution_count": 23,
   "metadata": {},
   "outputs": [],
   "source": [
    "def mySST(nc_save_name,LON,LAT,TIME,Ref_time,values1):\n",
    "    \n",
    "    ncfile = Dataset(nc_save_name,mode='w',format='NETCDF4')\n",
    "\n",
    "    ncfile.createDimension('lat', len(LAT))\n",
    "    ncfile.createDimension('lon', len(LON))\n",
    "    ncfile.createDimension('time',len(TIME))\n",
    "    \n",
    "    ncfile.title='My HadlSST data '\n",
    "    \n",
    "    lat = ncfile.createVariable('lat', np.float32, ('lat',))\n",
    "    lat.units = 'degrees_north'\n",
    "    lon = ncfile.createVariable('lon', np.float32, ('lon',))\n",
    "    lon.units = 'degrees_east'\n",
    "    time = ncfile.createVariable('time', np.float64, ('time',))\n",
    "    time.units=Ref_time\n",
    "    time.field='time, scalar, series'\n",
    "    \n",
    "    DATA1 = ncfile.createVariable('sst',np.float64,('time','lat','lon'),compression='zlib') #\n",
    "    DATA1.units = 'degree_C' \n",
    "    DATA1.long_name = 'HadlSST' \n",
    "    DATA1.coordinates = \"time, depth, lat, lon\"\n",
    "    \n",
    "    # Data.field=Var.field\n",
    "    lat[:] = LAT\n",
    "    lon[:] = LON\n",
    "    time[:] = TIME \n",
    "     \n",
    "    DATA1[:] = values1\n",
    "\n",
    "    ncfile.close()"
   ]
  },
  {
   "cell_type": "code",
   "execution_count": 28,
   "metadata": {},
   "outputs": [],
   "source": [
    "mySST(wnpth,LON,LAT,my_time_num,My_time_ref,HadlSST)"
   ]
  },
  {
   "cell_type": "code",
   "execution_count": 41,
   "metadata": {},
   "outputs": [
    {
     "data": {
      "text/plain": [
       "array([[[False, False, False, ..., False, False, False],\n",
       "        [False, False, False, ..., False, False, False],\n",
       "        [False, False, False, ..., False, False, False],\n",
       "        ...,\n",
       "        [ True,  True,  True, ...,  True,  True,  True],\n",
       "        [ True,  True,  True, ...,  True,  True,  True],\n",
       "        [False, False, False, ..., False, False, False]],\n",
       "\n",
       "       [[False, False, False, ..., False, False, False],\n",
       "        [False, False, False, ..., False, False, False],\n",
       "        [False, False, False, ..., False, False, False],\n",
       "        ...,\n",
       "        [ True,  True,  True, ...,  True,  True,  True],\n",
       "        [ True,  True,  True, ...,  True,  True,  True],\n",
       "        [False, False, False, ..., False, False, False]],\n",
       "\n",
       "       [[False, False, False, ..., False, False, False],\n",
       "        [False, False, False, ..., False, False, False],\n",
       "        [False, False, False, ..., False, False, False],\n",
       "        ...,\n",
       "        [ True,  True,  True, ...,  True,  True,  True],\n",
       "        [ True,  True,  True, ...,  True,  True,  True],\n",
       "        [False, False, False, ..., False, False, False]],\n",
       "\n",
       "       ...,\n",
       "\n",
       "       [[False, False, False, ..., False, False, False],\n",
       "        [False, False, False, ..., False, False, False],\n",
       "        [False, False, False, ..., False, False, False],\n",
       "        ...,\n",
       "        [ True, False,  True, ...,  True,  True,  True],\n",
       "        [ True,  True,  True, ...,  True,  True,  True],\n",
       "        [False, False, False, ..., False, False, False]],\n",
       "\n",
       "       [[False, False, False, ..., False, False, False],\n",
       "        [False, False, False, ..., False, False, False],\n",
       "        [False, False, False, ..., False, False, False],\n",
       "        ...,\n",
       "        [False, False,  True, ..., False, False, False],\n",
       "        [ True,  True,  True, ...,  True,  True,  True],\n",
       "        [False, False, False, ..., False, False, False]],\n",
       "\n",
       "       [[False, False, False, ..., False, False, False],\n",
       "        [False, False, False, ..., False, False, False],\n",
       "        [False, False, False, ..., False, False, False],\n",
       "        ...,\n",
       "        [False,  True,  True, ..., False,  True,  True],\n",
       "        [ True, False, False, ..., False,  True,  True],\n",
       "        [False,  True,  True, ...,  True,  True,  True]]])"
      ]
     },
     "execution_count": 41,
     "metadata": {},
     "output_type": "execute_result"
    }
   ],
   "source": []
  },
  {
   "cell_type": "code",
   "execution_count": null,
   "metadata": {},
   "outputs": [],
   "source": []
  }
 ],
 "metadata": {
  "kernelspec": {
   "display_name": "nemo_env",
   "language": "python",
   "name": "python3"
  },
  "language_info": {
   "codemirror_mode": {
    "name": "ipython",
    "version": 3
   },
   "file_extension": ".py",
   "mimetype": "text/x-python",
   "name": "python",
   "nbconvert_exporter": "python",
   "pygments_lexer": "ipython3",
   "version": "3.9.17"
  },
  "orig_nbformat": 4
 },
 "nbformat": 4,
 "nbformat_minor": 2
}
