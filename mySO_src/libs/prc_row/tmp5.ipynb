{
 "cells": [
  {
   "cell_type": "code",
   "execution_count": 41,
   "metadata": {},
   "outputs": [],
   "source": [
    "from scipy import io\n",
    "from netCDF4 import MFDataset,Dataset,num2date,date2num\n",
    "import numpy as np\n",
    "import datetime as dt\n",
    "import xarray as xr\n",
    "import pandas as pd\n",
    "from numpy import ma\n",
    "import os\n",
    "\n",
    "pth='D:/JMA/CHA_MAT/'\n",
    "wnpth='J:/Obs/myISHII_198001_201912_ts.nc'\n",
    "\n",
    "d_lst=[pth+i for i in os.listdir(pth) if i.endswith('mat')]"
   ]
  },
  {
   "cell_type": "code",
   "execution_count": 15,
   "metadata": {},
   "outputs": [],
   "source": [
    "Sample=io.loadmat(d_lst[0])\n",
    "LAT,LON=Sample['lat'],Sample['lon']\n",
    "DEPTH=np.flipud(Sample['depth'])"
   ]
  },
  {
   "cell_type": "code",
   "execution_count": 47,
   "metadata": {},
   "outputs": [
    {
     "data": {
      "text/plain": [
       "array([[3000.],\n",
       "       [2500.],\n",
       "       [2000.],\n",
       "       [1750.],\n",
       "       [1500.],\n",
       "       [1400.],\n",
       "       [1300.],\n",
       "       [1200.],\n",
       "       [1100.],\n",
       "       [1000.],\n",
       "       [ 900.],\n",
       "       [ 800.],\n",
       "       [ 700.],\n",
       "       [ 600.],\n",
       "       [ 500.],\n",
       "       [ 400.],\n",
       "       [ 300.],\n",
       "       [ 250.],\n",
       "       [ 200.],\n",
       "       [ 150.],\n",
       "       [ 125.],\n",
       "       [ 100.],\n",
       "       [  75.],\n",
       "       [  50.],\n",
       "       [  30.],\n",
       "       [  20.],\n",
       "       [  10.],\n",
       "       [   0.]], dtype=float32)"
      ]
     },
     "execution_count": 47,
     "metadata": {},
     "output_type": "execute_result"
    }
   ],
   "source": [
    "DEPTH"
   ]
  },
  {
   "cell_type": "code",
   "execution_count": 20,
   "metadata": {},
   "outputs": [],
   "source": [
    "### Read mat files =================================================\n",
    "TEMP=np.zeros([len(d_lst)*12,len(DEPTH),len(LAT),len(LON)])\n",
    "SALT=np.zeros_like(TEMP)\n",
    "for i,fac in zip(d_lst,range(len(d_lst))):\n",
    "    tmp=io.loadmat(i)\n",
    "    TEMP[fac*12:(fac+1)*12,:,:,:]=tmp['temp']\n",
    "    SALT[fac*12:(fac+1)*12,:,:,:]=tmp['salt']\n"
   ]
  },
  {
   "cell_type": "code",
   "execution_count": 39,
   "metadata": {},
   "outputs": [],
   "source": [
    "### Create time num =================================================\n",
    "TIMES=pd.date_range('1980-01','2020-01',freq='M').strftime('%Y%m')\n",
    "Ref_time='days since 1970-1-1 00:00:00'\n",
    "my_time_num=date2num([dt.datetime(int(str(i)[:4]),int(str(i)[4:6]),15)\\\n",
    "    for i in TIMES],Ref_time)"
   ]
  },
  {
   "cell_type": "code",
   "execution_count": 46,
   "metadata": {},
   "outputs": [],
   "source": [
    "### Data Masking ====================================================\n",
    "mask=(TEMP!=TEMP).data\n",
    "TEMP=ma.array(TEMP,mask=mask)\n",
    "mask=(SALT!=SALT).data\n",
    "SALT=ma.array(SALT,mask=mask)\n",
    "TEMP,SALT=np.flip(TEMP,axis=1),np.flip(SALT,axis=1)\n"
   ]
  },
  {
   "cell_type": "code",
   "execution_count": null,
   "metadata": {},
   "outputs": [],
   "source": [
    "\n",
    "### Data Writing =====================================================\n",
    "def myOGCM(nc_save_name,LON,LAT,DEPTH,TIME,Ref_time,values1,values2):\n",
    "    \n",
    "    ncfile = Dataset(nc_save_name,mode='w',format='NETCDF4')\n",
    "\n",
    "    ncfile.createDimension('lat', len(LAT))\n",
    "    ncfile.createDimension('lon', len(LON))\n",
    "    ncfile.createDimension('depth',len(DEPTH))\n",
    "    ncfile.createDimension('time',len(TIME))\n",
    "    \n",
    "    ncfile.title='My Ishii (JMA) data '\n",
    "    \n",
    "    lat = ncfile.createVariable('lat', np.float32, ('lat',))\n",
    "    lat.units = 'degrees_north'\n",
    "    lon = ncfile.createVariable('lon', np.float32, ('lon',))\n",
    "    lon.units = 'degrees_east'\n",
    "    depth = ncfile.createVariable('depth', np.float32, ('depth',))\n",
    "    depth.units = 'depth_m'\n",
    "    time = ncfile.createVariable('time', np.float64, ('time',))\n",
    "    time.units=Ref_time\n",
    "    time.field='time, scalar, series'\n",
    "    # time.cycle_length=cycle\n",
    "    \n",
    "    DATA1 = ncfile.createVariable('temp',np.float64,('time','depth','lat','lon'),compression='zlib') #\n",
    "    DATA1.units = 'degree_C' \n",
    "    DATA1.long_name = 'Ishii (JMA) temp' \n",
    "    DATA1.coordinates = \"time, depth, lat, lon\"\n",
    "    \n",
    "    DATA2 = ncfile.createVariable('salt',np.float64,('time','depth','lat','lon'),compression='zlib') \n",
    "    DATA2.units = 'g kg-1 (?)' \n",
    "    DATA2.long_name = 'Ishii (JMA) salt' \n",
    "    DATA2.coordinates = \"time, depth, lat, lon\"\n",
    "    # Data.field=Var.field\n",
    "    lat[:] = LAT\n",
    "    lon[:] = LON\n",
    "    depth[:]= DEPTH\n",
    "    time[:] = TIME \n",
    "     \n",
    "    DATA1[:] = values1\n",
    "    DATA2[:] = values2\n",
    "\n",
    "    ncfile.close()\n",
    "    \n",
    "myOGCM(wnpth,LON,LAT,DEPTH,my_time_num,Ref_time,TEMP,SALT)\n",
    "    "
   ]
  }
 ],
 "metadata": {
  "kernelspec": {
   "display_name": "nemo_env",
   "language": "python",
   "name": "python3"
  },
  "language_info": {
   "codemirror_mode": {
    "name": "ipython",
    "version": 3
   },
   "file_extension": ".py",
   "mimetype": "text/x-python",
   "name": "python",
   "nbconvert_exporter": "python",
   "pygments_lexer": "ipython3",
   "version": "3.9.17"
  },
  "orig_nbformat": 4
 },
 "nbformat": 4,
 "nbformat_minor": 2
}
