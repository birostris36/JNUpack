{
 "cells": [
  {
   "cell_type": "code",
   "execution_count": 3,
   "metadata": {},
   "outputs": [
    {
     "name": "stdout",
     "output_type": "stream",
     "text": [
      "!!! Open files !!!\n",
      "!!! Open: J:/MDLS_OBS_OHC/myEN4_198001_202012_tsh.nc !!!\n",
      "9.969209968386869e+36\n",
      "-8440119958.45915\n",
      "!!! linregress !!!\n",
      "[[nan nan nan ... nan nan nan]\n",
      " [nan nan nan ... nan nan nan]\n",
      " [nan nan nan ... nan nan nan]\n",
      " ...\n",
      " [nan nan nan ... nan nan nan]\n",
      " [nan nan nan ... nan nan nan]\n",
      " [nan nan nan ... nan nan nan]]\n"
     ]
    },
    {
     "ename": "RuntimeError",
     "evalue": "No active exception to reraise",
     "output_type": "error",
     "traceback": [
      "\u001b[1;31m---------------------------------------------------------------------------\u001b[0m",
      "\u001b[1;31mRuntimeError\u001b[0m                              Traceback (most recent call last)",
      "\u001b[1;32mc:\\Users\\shjo\\Bridge\\JNUpack\\SO\\DATA\\tttmp.ipynb Cell 1\u001b[0m line \u001b[0;36m4\n\u001b[0;32m     <a href='vscode-notebook-cell:/c%3A/Users/shjo/Bridge/JNUpack/SO/DATA/tttmp.ipynb#W0sZmlsZQ%3D%3D?line=46'>47</a>\u001b[0m CoefD\u001b[39m=\u001b[39mslope\u001b[39m*\u001b[39m\u001b[39m12\u001b[39m\u001b[39m*\u001b[39m\u001b[39m10\u001b[39m \u001b[39m# Decadal^-1\u001b[39;00m\n\u001b[0;32m     <a href='vscode-notebook-cell:/c%3A/Users/shjo/Bridge/JNUpack/SO/DATA/tttmp.ipynb#W0sZmlsZQ%3D%3D?line=47'>48</a>\u001b[0m \u001b[39mprint\u001b[39m(CoefD); \n\u001b[1;32m---> <a href='vscode-notebook-cell:/c%3A/Users/shjo/Bridge/JNUpack/SO/DATA/tttmp.ipynb#W0sZmlsZQ%3D%3D?line=48'>49</a>\u001b[0m plt\u001b[39m.\u001b[39mpcolor(CoefD); \u001b[39mraise\u001b[39;00m\n\u001b[0;32m     <a href='vscode-notebook-cell:/c%3A/Users/shjo/Bridge/JNUpack/SO/DATA/tttmp.ipynb#W0sZmlsZQ%3D%3D?line=49'>50</a>\u001b[0m \u001b[39m### Figure configs =======================================================\u001b[39;00m\n\u001b[0;32m     <a href='vscode-notebook-cell:/c%3A/Users/shjo/Bridge/JNUpack/SO/DATA/tttmp.ipynb#W0sZmlsZQ%3D%3D?line=50'>51</a>\u001b[0m myN\u001b[39m=\u001b[39m\u001b[39m16\u001b[39m\n",
      "\u001b[1;31mRuntimeError\u001b[0m: No active exception to reraise"
     ]
    },
    {
     "data": {
      "image/png": "[encoded data removed]",
      "text/plain": [
       "<Figure size 640x480 with 1 Axes>"
      ]
     },
     "metadata": {},
     "output_type": "display_data"
    }
   ],
   "source": [
    "import sys\n",
    "sys.path.append('C:/Users/shjo/Bridge/JNUpack/SO/libs/')\n",
    "import matplotlib as mpl\n",
    "# mpl.use('agg')\n",
    "import os\n",
    "import numpy as np\n",
    "import xarray as xr\n",
    "from myTrend import myfitting2d_sttcs\n",
    "from myPlot import  figmaster,myClrbr\n",
    "import matplotlib.pyplot as plt\n",
    "import warnings\n",
    "warnings.filterwarnings('ignore')\n",
    "\n",
    "pthMO='J:/MDLS_OBS_OHC/'\n",
    "\n",
    "wpth='C:/Users/shjo/OneDrive/mySO/trend_ohc/'\n",
    "t_rng=[1980, 2020]\n",
    "\n",
    "### Preparation ============================================================\n",
    "\n",
    "myMDOB=[pthMO+i for i in os.listdir(pthMO) if i.endswith('.nc')]\n",
    "\n",
    "myDATA=myMDOB\n",
    "\n",
    "### Read myDATA =============================================================\n",
    "print('!!! Open files !!!')\n",
    "lat_rng=[-80,-30] ; time_rng=[str(t_rng[0])+'-01',str(t_rng[-1])+'-12']\n",
    "for i in [myDATA[1]]: \n",
    "    print('!!! Open: '+i+' !!!')\n",
    "    tmp=xr.open_dataset(i)\n",
    "\n",
    "    mySST = tmp.OHC700.loc[dict(lat=slice(lat_rng[0],lat_rng[-1])\\\n",
    "        ,time=slice(time_rng[0],time_rng[-1]))]\n",
    "    print(np.nanmax(mySST))\n",
    "    print(np.nanmin(mySST))\n",
    "\n",
    "    mySST=mySST.where(mySST<10**30)\n",
    "    lonR,latR=mySST.lon.values,mySST.lat.values\n",
    "    lonR_m,latR_m=np.meshgrid(lonR,latR)\n",
    "    time=mySST.time.values\n",
    "    dta_nm=i.split('/')[-1][2:-3].split('_')[0]+' OHC700 '+'trend '+\\\n",
    "        str(time[0])[:4]+' '+str(time[-1])[:4]\n",
    "\n",
    "    ### SST Coef =============================================================\n",
    "    print('!!! linregress !!!')\n",
    "    slope,intercept,r_value,p_value,std_err,smask=myfitting2d_sttcs(mySST,threshold=0.05)\n",
    "    CoefD=slope*12*10 # Decadal^-1\n",
    "    print(CoefD); \n",
    "    plt.pcolor(CoefD); raise\n",
    "    ### Figure configs =======================================================\n",
    "    myN=16\n",
    "    sstTlim=[-0.5,0.5]\n",
    "    CMAP,mylevel=myClrbr('myblc2',sstTlim,myN)\n",
    "\n",
    "    CoefD[CoefD<sstTlim[0]]=sstTlim[0]\n",
    "    CoefD[CoefD>sstTlim[-1]]=sstTlim[-1]\n",
    "\n",
    "    mySetting={'title_loc':'right',\n",
    "            'wpth':wpth}\n",
    "\n",
    "    mySetting={\n",
    "        'figsize': '',\n",
    "        'mylabel': '',\n",
    "        'Label_size':18,\n",
    "        'title_loc':'right',\n",
    "        'fontParams':'Arial',\n",
    "        'wpth':wpth}\n",
    "\n",
    "    ### Figure ==============================================================\n",
    "    print('!!!   figure   !!!')\n",
    "    F=figmaster(mySetting)\n",
    "    F.myCrtpy_sph2(latR_m,lonR_m,CoefD,smask,CMAP,mylevel,dta_nm)\n"
   ]
  },
  {
   "cell_type": "code",
   "execution_count": null,
   "metadata": {},
   "outputs": [],
   "source": []
  }
 ],
 "metadata": {
  "kernelspec": {
   "display_name": "nemo_env",
   "language": "python",
   "name": "python3"
  },
  "language_info": {
   "codemirror_mode": {
    "name": "ipython",
    "version": 3
   },
   "file_extension": ".py",
   "mimetype": "text/x-python",
   "name": "python",
   "nbconvert_exporter": "python",
   "pygments_lexer": "ipython3",
   "version": "3.9.17"
  },
  "orig_nbformat": 4
 },
 "nbformat": 4,
 "nbformat_minor": 2
}
