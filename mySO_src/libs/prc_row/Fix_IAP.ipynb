{
 "cells": [
  {
   "cell_type": "code",
   "execution_count": 1,
   "metadata": {},
   "outputs": [],
   "source": [
    "from scipy import io\n",
    "from netCDF4 import MFDataset,Dataset,num2date,date2num\n",
    "import numpy as np\n",
    "import datetime as dt\n",
    "import xarray as xr\n",
    "import pandas as pd\n",
    "import h5py\n",
    "from numpy import ma\n",
    "import os\n",
    "\n",
    "npth='J:/Obs/myIAP_198001_201812_tsuv.nc'\n",
    "NC=Dataset(npth,'a')\n",
    "TEMP=NC['salt'][:]\n",
    "DATA=NC['v'][:]\n",
    "mask=(TEMP!=TEMP).data\n",
    "TEMP=ma.array(TEMP,mask=mask)\n",
    "DATA[mask]=np.nan\n",
    "DATA=ma.array(DATA,mask=mask)\n",
    "NC['salt'][:]=TEMP\n",
    "NC['v'][:]=DATA\n",
    "NC.close()\n"
   ]
  },
  {
   "cell_type": "code",
   "execution_count": null,
   "metadata": {},
   "outputs": [],
   "source": []
  }
 ],
 "metadata": {
  "kernelspec": {
   "display_name": "nemo_env",
   "language": "python",
   "name": "python3"
  },
  "language_info": {
   "codemirror_mode": {
    "name": "ipython",
    "version": 3
   },
   "file_extension": ".py",
   "mimetype": "text/x-python",
   "name": "python",
   "nbconvert_exporter": "python",
   "pygments_lexer": "ipython3",
   "version": "3.9.17"
  },
  "orig_nbformat": 4
 },
 "nbformat": 4,
 "nbformat_minor": 2
}
