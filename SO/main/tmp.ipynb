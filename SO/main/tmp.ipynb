{
 "cells": [
  {
   "cell_type": "code",
   "execution_count": 22,
   "metadata": {},
   "outputs": [],
   "source": [
    "import pickle\n",
    "import numpy as np\n",
    "\n",
    "varnm='OHC700'\n",
    "t_rng=[1993,2020]\n",
    "Gpth='C:/Users/shjo/OneDrive/mySO/zonal_mean/'+varnm+'_'+str(t_rng[0])+'_'+str(t_rng[-1])\n",
    "Ppth='C:/Users/shjo/OneDrive/mySO/zonal_mean_Pacific/'+varnm+'_'+str(t_rng[0])+'_'+str(t_rng[-1])\n",
    "Apth='C:/Users/shjo/OneDrive/mySO/zonal_mean_Atlantic/'+varnm+'_'+str(t_rng[0])+'_'+str(t_rng[-1])\n",
    "Ipth='C:/Users/shjo/OneDrive/mySO/zonal_mean_Indian/'+varnm+'_'+str(t_rng[0])+'_'+str(t_rng[-1])\n",
    "Spth='C:/Users/shjo/OneDrive/mySO/zonal_mean_SCP/'+varnm+'_'+str(t_rng[0])+'_'+str(t_rng[-1])\n",
    "\n",
    "with open(Gpth+'/Zonal_mean_'+varnm+'_trend_'+str(t_rng[0])+'_'+str(t_rng[-1])+'.pickle', 'rb') as f:\n",
    "    G = pickle.load(f)\n",
    "with open(Ppth+'/Zonal_mean_'+varnm+'_trend_'+str(t_rng[0])+'_'+str(t_rng[-1])+'.pickle', 'rb') as f:\n",
    "    P = pickle.load(f)\n",
    "with open(Apth+'/Zonal_mean_'+varnm+'_trend_'+str(t_rng[0])+'_'+str(t_rng[-1])+'.pickle', 'rb') as f:\n",
    "    A = pickle.load(f)\n",
    "with open(Ipth+'/Zonal_mean_'+varnm+'_trend_'+str(t_rng[0])+'_'+str(t_rng[-1])+'.pickle', 'rb') as f:\n",
    "    I = pickle.load(f)\n",
    "with open(Spth+'/Zonal_mean_'+varnm+'_trend_'+str(t_rng[0])+'_'+str(t_rng[-1])+'.pickle', 'rb') as f:\n",
    "    S = pickle.load(f)\n"
   ]
  },
  {
   "cell_type": "code",
   "execution_count": 114,
   "metadata": {},
   "outputs": [],
   "source": [
    "HMn={}\n",
    "for N,nm in zip([G,P,A,I,S],['G','P','A','I','S']):\n",
    "    j1=N['Ensemble_lat']\n",
    "    for i in list(N.keys())[::2]:\n",
    "        co=np.where( (j1>=-75)&(j1<=-30) )[0]\n",
    "        HMn[i+'_'+nm]=np.nansum(N[i][co])\n"
   ]
  },
  {
   "cell_type": "code",
   "execution_count": 115,
   "metadata": {},
   "outputs": [],
   "source": [
    "HMn_S={}\n",
    "for N,nm in zip([S],['S']):\n",
    "    j2=N['Ensemble_lat']\n",
    "    for i in list(N.keys())[::2]:\n",
    "        co=np.where( (j2>=-60)&(j2<=-55) )[0]\n",
    "        HMn_S[i+'_'+nm]=np.nansum(N[i][co])\n"
   ]
  },
  {
   "cell_type": "code",
   "execution_count": 112,
   "metadata": {},
   "outputs": [
    {
     "data": {
      "text/plain": [
       "{'ECCO_OHC700_trend_1993_2017_S': -2.9863927631188645,\n",
       " 'EN4_OHC700_trend_1993_2020_S': -0.9891865308136837,\n",
       " 'GECCO_OHC700_trend_1993_2018_S': -2.03180723001683,\n",
       " 'IAP_OHC700_trend_1993_2020_S': -0.45608610311461095,\n",
       " 'ISHII_OHC700_trend_1993_2019_S': -1.806936678604627,\n",
       " 'Ensemble_S': -1.6540818611337231}"
      ]
     },
     "execution_count": 112,
     "metadata": {},
     "output_type": "execute_result"
    }
   ],
   "source": [
    "HMn_S"
   ]
  },
  {
   "cell_type": "code",
   "execution_count": 116,
   "metadata": {},
   "outputs": [
    {
     "data": {
      "text/plain": [
       "{'ECCO_OHC700_trend_1993_2017_G': 7.104807367004455,\n",
       " 'EN4_OHC700_trend_1993_2020_G': 16.976152440108752,\n",
       " 'GECCO_OHC700_trend_1993_2018_G': 10.215590726810449,\n",
       " 'IAP_OHC700_trend_1993_2020_G': 15.316505764657906,\n",
       " 'ISHII_OHC700_trend_1993_2019_G': 12.793780128980647,\n",
       " 'Ensemble_G': 12.618649962326096,\n",
       " 'ECCO_OHC700_trend_1993_2017_P': 7.490770394634984,\n",
       " 'EN4_OHC700_trend_1993_2020_P': 16.466541752544043,\n",
       " 'GECCO_OHC700_trend_1993_2018_P': 4.359773098950112,\n",
       " 'IAP_OHC700_trend_1993_2020_P': 13.992599764330802,\n",
       " 'ISHII_OHC700_trend_1993_2019_P': 9.861211349356552,\n",
       " 'Ensemble_P': 10.573301738229542,\n",
       " 'ECCO_OHC700_trend_1993_2017_A': 5.634689710526655,\n",
       " 'EN4_OHC700_trend_1993_2020_A': 21.488151832916497,\n",
       " 'GECCO_OHC700_trend_1993_2018_A': 23.201330916394333,\n",
       " 'IAP_OHC700_trend_1993_2020_A': 18.8732831802668,\n",
       " 'ISHII_OHC700_trend_1993_2019_A': 19.503209598217012,\n",
       " 'Ensemble_A': 17.855546352327423,\n",
       " 'ECCO_OHC700_trend_1993_2017_I': 6.779414825178052,\n",
       " 'EN4_OHC700_trend_1993_2020_I': 9.719833132082039,\n",
       " 'GECCO_OHC700_trend_1993_2018_I': 8.561393779247366,\n",
       " 'IAP_OHC700_trend_1993_2020_I': 11.044155902657803,\n",
       " 'ISHII_OHC700_trend_1993_2019_I': 9.838093041382917,\n",
       " 'Ensemble_I': 8.915782706096048,\n",
       " 'ECCO_OHC700_trend_1993_2017_S': 12.259887610170688,\n",
       " 'EN4_OHC700_trend_1993_2020_S': 23.362745177246794,\n",
       " 'GECCO_OHC700_trend_1993_2018_S': 4.941861888177274,\n",
       " 'IAP_OHC700_trend_1993_2020_S': 19.475443634142717,\n",
       " 'ISHII_OHC700_trend_1993_2019_S': 15.374204900285603,\n",
       " 'Ensemble_S': 15.352789501789944}"
      ]
     },
     "execution_count": 116,
     "metadata": {},
     "output_type": "execute_result"
    }
   ],
   "source": [
    "HMn"
   ]
  },
  {
   "cell_type": "code",
   "execution_count": 90,
   "metadata": {},
   "outputs": [
    {
     "ename": "ValueError",
     "evalue": "x and y must have same first dimension, but have shapes (5,) and (10,)",
     "output_type": "error",
     "traceback": [
      "\u001b[1;31m---------------------------------------------------------------------------\u001b[0m",
      "\u001b[1;31mValueError\u001b[0m                                Traceback (most recent call last)",
      "\u001b[1;32mc:\\Users\\shjo\\Bridge\\JNUpack\\SO\\main\\tmp.ipynb Cell 5\u001b[0m line \u001b[0;36m1\n\u001b[1;32m----> <a href='vscode-notebook-cell:/c%3A/Users/shjo/Bridge/JNUpack/SO/main/tmp.ipynb#X12sZmlsZQ%3D%3D?line=0'>1</a>\u001b[0m plt\u001b[39m.\u001b[39;49mplot(ddd[\u001b[39m'\u001b[39;49m\u001b[39mIAP_OHC700_trend_1993_2020_S\u001b[39;49m\u001b[39m'\u001b[39;49m],ddd[\u001b[39m'\u001b[39;49m\u001b[39mEnsemble_lat_S\u001b[39;49m\u001b[39m'\u001b[39;49m])\n",
      "File \u001b[1;32mc:\\Users\\shjo\\miniconda3\\envs\\nemo_env\\lib\\site-packages\\matplotlib\\pyplot.py:2812\u001b[0m, in \u001b[0;36mplot\u001b[1;34m(scalex, scaley, data, *args, **kwargs)\u001b[0m\n\u001b[0;32m   2810\u001b[0m \u001b[39m@_copy_docstring_and_deprecators\u001b[39m(Axes\u001b[39m.\u001b[39mplot)\n\u001b[0;32m   2811\u001b[0m \u001b[39mdef\u001b[39;00m \u001b[39mplot\u001b[39m(\u001b[39m*\u001b[39margs, scalex\u001b[39m=\u001b[39m\u001b[39mTrue\u001b[39;00m, scaley\u001b[39m=\u001b[39m\u001b[39mTrue\u001b[39;00m, data\u001b[39m=\u001b[39m\u001b[39mNone\u001b[39;00m, \u001b[39m*\u001b[39m\u001b[39m*\u001b[39mkwargs):\n\u001b[1;32m-> 2812\u001b[0m     \u001b[39mreturn\u001b[39;00m gca()\u001b[39m.\u001b[39mplot(\n\u001b[0;32m   2813\u001b[0m         \u001b[39m*\u001b[39margs, scalex\u001b[39m=\u001b[39mscalex, scaley\u001b[39m=\u001b[39mscaley,\n\u001b[0;32m   2814\u001b[0m         \u001b[39m*\u001b[39m\u001b[39m*\u001b[39m({\u001b[39m\"\u001b[39m\u001b[39mdata\u001b[39m\u001b[39m\"\u001b[39m: data} \u001b[39mif\u001b[39;00m data \u001b[39mis\u001b[39;00m \u001b[39mnot\u001b[39;00m \u001b[39mNone\u001b[39;00m \u001b[39melse\u001b[39;00m {}), \u001b[39m*\u001b[39m\u001b[39m*\u001b[39mkwargs)\n",
      "File \u001b[1;32mc:\\Users\\shjo\\miniconda3\\envs\\nemo_env\\lib\\site-packages\\matplotlib\\axes\\_axes.py:1688\u001b[0m, in \u001b[0;36mAxes.plot\u001b[1;34m(self, scalex, scaley, data, *args, **kwargs)\u001b[0m\n\u001b[0;32m   1445\u001b[0m \u001b[39m\u001b[39m\u001b[39m\"\"\"\u001b[39;00m\n\u001b[0;32m   1446\u001b[0m \u001b[39mPlot y versus x as lines and/or markers.\u001b[39;00m\n\u001b[0;32m   1447\u001b[0m \n\u001b[1;32m   (...)\u001b[0m\n\u001b[0;32m   1685\u001b[0m \u001b[39m(``'green'``) or hex strings (``'#008000'``).\u001b[39;00m\n\u001b[0;32m   1686\u001b[0m \u001b[39m\"\"\"\u001b[39;00m\n\u001b[0;32m   1687\u001b[0m kwargs \u001b[39m=\u001b[39m cbook\u001b[39m.\u001b[39mnormalize_kwargs(kwargs, mlines\u001b[39m.\u001b[39mLine2D)\n\u001b[1;32m-> 1688\u001b[0m lines \u001b[39m=\u001b[39m [\u001b[39m*\u001b[39m\u001b[39mself\u001b[39m\u001b[39m.\u001b[39m_get_lines(\u001b[39m*\u001b[39margs, data\u001b[39m=\u001b[39mdata, \u001b[39m*\u001b[39m\u001b[39m*\u001b[39mkwargs)]\n\u001b[0;32m   1689\u001b[0m \u001b[39mfor\u001b[39;00m line \u001b[39min\u001b[39;00m lines:\n\u001b[0;32m   1690\u001b[0m     \u001b[39mself\u001b[39m\u001b[39m.\u001b[39madd_line(line)\n",
      "File \u001b[1;32mc:\\Users\\shjo\\miniconda3\\envs\\nemo_env\\lib\\site-packages\\matplotlib\\axes\\_base.py:311\u001b[0m, in \u001b[0;36m_process_plot_var_args.__call__\u001b[1;34m(self, data, *args, **kwargs)\u001b[0m\n\u001b[0;32m    309\u001b[0m     this \u001b[39m+\u001b[39m\u001b[39m=\u001b[39m args[\u001b[39m0\u001b[39m],\n\u001b[0;32m    310\u001b[0m     args \u001b[39m=\u001b[39m args[\u001b[39m1\u001b[39m:]\n\u001b[1;32m--> 311\u001b[0m \u001b[39myield from\u001b[39;00m \u001b[39mself\u001b[39;49m\u001b[39m.\u001b[39;49m_plot_args(\n\u001b[0;32m    312\u001b[0m     this, kwargs, ambiguous_fmt_datakey\u001b[39m=\u001b[39;49mambiguous_fmt_datakey)\n",
      "File \u001b[1;32mc:\\Users\\shjo\\miniconda3\\envs\\nemo_env\\lib\\site-packages\\matplotlib\\axes\\_base.py:504\u001b[0m, in \u001b[0;36m_process_plot_var_args._plot_args\u001b[1;34m(self, tup, kwargs, return_kwargs, ambiguous_fmt_datakey)\u001b[0m\n\u001b[0;32m    501\u001b[0m     \u001b[39mself\u001b[39m\u001b[39m.\u001b[39maxes\u001b[39m.\u001b[39myaxis\u001b[39m.\u001b[39mupdate_units(y)\n\u001b[0;32m    503\u001b[0m \u001b[39mif\u001b[39;00m x\u001b[39m.\u001b[39mshape[\u001b[39m0\u001b[39m] \u001b[39m!=\u001b[39m y\u001b[39m.\u001b[39mshape[\u001b[39m0\u001b[39m]:\n\u001b[1;32m--> 504\u001b[0m     \u001b[39mraise\u001b[39;00m \u001b[39mValueError\u001b[39;00m(\u001b[39mf\u001b[39m\u001b[39m\"\u001b[39m\u001b[39mx and y must have same first dimension, but \u001b[39m\u001b[39m\"\u001b[39m\n\u001b[0;32m    505\u001b[0m                      \u001b[39mf\u001b[39m\u001b[39m\"\u001b[39m\u001b[39mhave shapes \u001b[39m\u001b[39m{\u001b[39;00mx\u001b[39m.\u001b[39mshape\u001b[39m}\u001b[39;00m\u001b[39m and \u001b[39m\u001b[39m{\u001b[39;00my\u001b[39m.\u001b[39mshape\u001b[39m}\u001b[39;00m\u001b[39m\"\u001b[39m)\n\u001b[0;32m    506\u001b[0m \u001b[39mif\u001b[39;00m x\u001b[39m.\u001b[39mndim \u001b[39m>\u001b[39m \u001b[39m2\u001b[39m \u001b[39mor\u001b[39;00m y\u001b[39m.\u001b[39mndim \u001b[39m>\u001b[39m \u001b[39m2\u001b[39m:\n\u001b[0;32m    507\u001b[0m     \u001b[39mraise\u001b[39;00m \u001b[39mValueError\u001b[39;00m(\u001b[39mf\u001b[39m\u001b[39m\"\u001b[39m\u001b[39mx and y can be no greater than 2D, but have \u001b[39m\u001b[39m\"\u001b[39m\n\u001b[0;32m    508\u001b[0m                      \u001b[39mf\u001b[39m\u001b[39m\"\u001b[39m\u001b[39mshapes \u001b[39m\u001b[39m{\u001b[39;00mx\u001b[39m.\u001b[39mshape\u001b[39m}\u001b[39;00m\u001b[39m and \u001b[39m\u001b[39m{\u001b[39;00my\u001b[39m.\u001b[39mshape\u001b[39m}\u001b[39;00m\u001b[39m\"\u001b[39m)\n",
      "\u001b[1;31mValueError\u001b[0m: x and y must have same first dimension, but have shapes (5,) and (10,)"
     ]
    },
    {
     "data": {
      "image/png": "[encoded data removed]",
      "text/plain": [
       "<Figure size 640x480 with 1 Axes>"
      ]
     },
     "metadata": {},
     "output_type": "display_data"
    }
   ],
   "source": [
    "plt.plot(ddd['IAP_OHC700_trend_1993_2020_S'],ddd['Ensemble_lat_S'])\n"
   ]
  },
  {
   "cell_type": "code",
   "execution_count": 92,
   "metadata": {},
   "outputs": [
    {
     "data": {
      "text/plain": [
       "array([0.08774149, 0.06891663, 0.05397623, 0.04292028, 0.03495834])"
      ]
     },
     "execution_count": 92,
     "metadata": {},
     "output_type": "execute_result"
    }
   ],
   "source": [
    "ddd['Ensemble_lat_S']\n",
    "ddd['IAP_OHC700_trend_1993_2020_S']"
   ]
  },
  {
   "cell_type": "code",
   "execution_count": 86,
   "metadata": {},
   "outputs": [
    {
     "data": {
      "text/plain": [
       "[<matplotlib.lines.Line2D at 0x1fb508ceee0>]"
      ]
     },
     "execution_count": 86,
     "metadata": {},
     "output_type": "execute_result"
    },
    {
     "data": {
      "image/png": "[encoded data removed]",
      "text/plain": [
       "<Figure size 640x480 with 1 Axes>"
      ]
     },
     "metadata": {},
     "output_type": "display_data"
    }
   ],
   "source": [
    "plt.plot(a['IAP_OHC700_trend_1993_2020_S'],N['Ensemble_lat'])"
   ]
  },
  {
   "cell_type": "code",
   "execution_count": 83,
   "metadata": {},
   "outputs": [
    {
     "data": {
      "text/plain": [
       "dict_keys(['ECCO_OHC700_trend_1993_2017', 'ECCO_OHC700_trend_1993_2017_lat', 'EN4_OHC700_trend_1993_2020', 'EN4_OHC700_trend_1993_2020_lat', 'GECCO_OHC700_trend_1993_2018', 'GECCO_OHC700_trend_1993_2018_lat', 'IAP_OHC700_trend_1993_2020', 'IAP_OHC700_trend_1993_2020_lat', 'ISHII_OHC700_trend_1993_2019', 'ISHII_OHC700_trend_1993_2019_lat', 'Ensemble', 'Ensemble_lat'])"
      ]
     },
     "execution_count": 83,
     "metadata": {},
     "output_type": "execute_result"
    }
   ],
   "source": [
    "N.keys()"
   ]
  },
  {
   "cell_type": "code",
   "execution_count": null,
   "metadata": {},
   "outputs": [],
   "source": []
  }
 ],
 "metadata": {
  "kernelspec": {
   "display_name": "nemo_env",
   "language": "python",
   "name": "python3"
  },
  "language_info": {
   "codemirror_mode": {
    "name": "ipython",
    "version": 3
   },
   "file_extension": ".py",
   "mimetype": "text/x-python",
   "name": "python",
   "nbconvert_exporter": "python",
   "pygments_lexer": "ipython3",
   "version": "3.9.17"
  },
  "orig_nbformat": 4
 },
 "nbformat": 4,
 "nbformat_minor": 2
}
