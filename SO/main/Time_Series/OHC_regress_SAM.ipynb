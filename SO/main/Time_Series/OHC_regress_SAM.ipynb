{
 "cells": [
  {
   "cell_type": "markdown",
   "metadata": {},
   "source": []
  },
  {
   "cell_type": "code",
   "execution_count": 10,
   "metadata": {},
   "outputs": [],
   "source": [
    "\n",
    "\n",
    "\n"
   ]
  },
  {
   "cell_type": "code",
   "execution_count": 26,
   "metadata": {},
   "outputs": [
    {
     "name": "stdout",
     "output_type": "stream",
     "text": [
      "!!! Open files !!!\n",
      "!!! Open: J:/MDLS_OBS_OHC/myEN4_198001_202012_tsh.nc !!!\n",
      "!!! linregress !!!\n",
      "!!!   figure   !!!\n"
     ]
    },
    {
     "ename": "RuntimeError",
     "evalue": "No active exception to reraise",
     "output_type": "error",
     "traceback": [
      "\u001b[1;31m---------------------------------------------------------------------------\u001b[0m",
      "\u001b[1;31mRuntimeError\u001b[0m                              Traceback (most recent call last)",
      "\u001b[1;32mc:\\Users\\shjo\\Bridge\\JNUpack\\SO\\main\\Time_Series\\OHC_regress_SAM.ipynb Cell 3\u001b[0m line \u001b[0;36m8\n\u001b[0;32m     <a href='vscode-notebook-cell:/c%3A/Users/shjo/Bridge/JNUpack/SO/main/Time_Series/OHC_regress_SAM.ipynb#W3sZmlsZQ%3D%3D?line=83'>84</a>\u001b[0m F\u001b[39m=\u001b[39mfigmaster(mySetting)\n\u001b[0;32m     <a href='vscode-notebook-cell:/c%3A/Users/shjo/Bridge/JNUpack/SO/main/Time_Series/OHC_regress_SAM.ipynb#W3sZmlsZQ%3D%3D?line=84'>85</a>\u001b[0m F\u001b[39m.\u001b[39mmyCrtpy_sph2(latR_m,lonR_m,CoefD,smask,CMAP,mylevel,dta_nm)\n\u001b[1;32m---> <a href='vscode-notebook-cell:/c%3A/Users/shjo/Bridge/JNUpack/SO/main/Time_Series/OHC_regress_SAM.ipynb#W3sZmlsZQ%3D%3D?line=85'>86</a>\u001b[0m \u001b[39mraise\u001b[39;00m\n",
      "\u001b[1;31mRuntimeError\u001b[0m: No active exception to reraise"
     ]
    }
   ],
   "source": [
    "\n",
    "import sys\n",
    "sys.path.append('C:/Users/shjo/Bridge/JNUpack/SO/libs/')\n",
    "import matplotlib as mpl\n",
    "# mpl.use('agg')\n",
    "import pickle\n",
    "import pandas as pd\n",
    "import numpy as np\n",
    "import os\n",
    "import numpy as np\n",
    "import xarray as xr\n",
    "from myTrend import myRegress3d_sttcs\n",
    "from myPlot import  figmaster,myClrbr\n",
    "import matplotlib.pyplot as plt\n",
    "import warnings\n",
    "warnings.filterwarnings('ignore')\n",
    "\n",
    "# Index path\n",
    "spth='C:/Users/shjo/OneDrive/mySO/mySignals/SAM_index.pickle'\n",
    "#Data Path\n",
    "pthMO='J:/MDLS_OBS_OHC/'\n",
    "\n",
    "wpth='C:/Users/shjo/OneDrive/mySO/Regress/SAM_OHC/'\n",
    "t_rng=[1993, 2017]\n",
    "vrnm='OHC700'\n",
    "\n",
    "### Preparation ============================================================\n",
    "wpth=wpth+vrnm+str(t_rng[0])+'_'+str(t_rng[-1])+'/'\n",
    "try :\n",
    "    os.mkdir(wpth)\n",
    "except:\n",
    "    raise\n",
    "\n",
    "myMDOB=[pthMO+i for i in os.listdir(pthMO) if i.endswith('.nc')]\n",
    "\n",
    "myDATA=myMDOB\n",
    "\n",
    "### Read index =============================================================\n",
    "with open(spth, 'rb') as f:\n",
    "    data = pickle.load(f)\n",
    "SAM_9320_=data['1990-01':'2020-12'].rolling(window=12,center=True).mean()\n",
    "SAM_9320=SAM_9320_['1993-01':'2017-12']\n",
    "### Read myDATA =============================================================\n",
    "print('!!! Open files !!!')\n",
    "lat_rng=[-80,-30] ; time_rng=[str(t_rng[0])+'-01',str(t_rng[-1])+'-12']\n",
    "for i in [myDATA[1]]: \n",
    "    print('!!! Open: '+i+' !!!')\n",
    "    tmp=xr.open_dataset(i)\n",
    "\n",
    "    mySST = tmp[vrnm].loc[dict(lat=slice(lat_rng[0],lat_rng[-1])\\\n",
    "        ,time=slice(time_rng[0],time_rng[-1]))]\n",
    "\n",
    "    mySST=mySST.where(mySST<10**30)\n",
    "    lonR,latR=mySST.lon.values,mySST.lat.values\n",
    "    lonR_m,latR_m=np.meshgrid(lonR,latR)\n",
    "    time=mySST.time.values\n",
    "    dta_nm=i.split('/')[-1][2:-3].split('_')[0]+' '+vrnm+' Regression (SAM) '+\\\n",
    "        str(time[0])[:4]+' '+str(time[-1])[:4]\n",
    "\n",
    "    ### SST Coef =============================================================\n",
    "    print('!!! linregress !!!')\n",
    "    slope,intercept,r_value,p_value,std_err,smask=myRegress3d_sttcs(SAM_9320.values.reshape(-1),mySST,threshold=0.05)\n",
    "    CoefD=slope*10**-9 # Decadal^-1\n",
    "    ### Figure configs =======================================================\n",
    "    myN=16\n",
    "    sstTlim=[-1.,1.]\n",
    "    CMAP,mylevel=myClrbr('myblc2',sstTlim,myN)\n",
    "\n",
    "    CoefD[CoefD<sstTlim[0]]=sstTlim[0]\n",
    "    CoefD[CoefD>sstTlim[-1]]=sstTlim[-1]\n",
    "\n",
    "    mySetting={'title_loc':'right',\n",
    "            'wpth':wpth}\n",
    "\n",
    "    mySetting={\n",
    "        'figsize': '',\n",
    "        'mylabel': '',\n",
    "        'Label_size':18,\n",
    "        'title_loc':'right',\n",
    "        'fontParams':'Arial',\n",
    "        'wpth':wpth}\n",
    "\n",
    "    ### Figure ==============================================================\n",
    "    print('!!!   figure   !!!')\n",
    "    F=figmaster(mySetting)\n",
    "    F.myCrtpy_sph2(latR_m,lonR_m,CoefD,smask,CMAP,mylevel,dta_nm.replace('(','').replace(')',''))\n",
    "    raise\n"
   ]
  },
  {
   "cell_type": "code",
   "execution_count": 27,
   "metadata": {},
   "outputs": [],
   "source": [
    "with open(spth, 'rb') as f:\n",
    "    data = pickle.load(f)\n",
    "SAM_9320_=data['1990-01':'2020-12'].rolling(window=12,center=True).mean()\n",
    "SAM_9320=SAM_9320_['1980-01':'2017-12']"
   ]
  },
  {
   "cell_type": "code",
   "execution_count": 32,
   "metadata": {},
   "outputs": [
    {
     "data": {
      "text/plain": [
       "[<matplotlib.lines.Line2D at 0x19628d5ba60>]"
      ]
     },
     "execution_count": 32,
     "metadata": {},
     "output_type": "execute_result"
    }
   ],
   "source": [
    "plt.plot(SAM_9320)"
   ]
  },
  {
   "cell_type": "code",
   "execution_count": null,
   "metadata": {},
   "outputs": [],
   "source": []
  }
 ],
 "metadata": {
  "kernelspec": {
   "display_name": "nemo_env",
   "language": "python",
   "name": "python3"
  },
  "language_info": {
   "codemirror_mode": {
    "name": "ipython",
    "version": 3
   },
   "file_extension": ".py",
   "mimetype": "text/x-python",
   "name": "python",
   "nbconvert_exporter": "python",
   "pygments_lexer": "ipython3",
   "version": "3.9.17"
  }
 },
 "nbformat": 4,
 "nbformat_minor": 2
}
