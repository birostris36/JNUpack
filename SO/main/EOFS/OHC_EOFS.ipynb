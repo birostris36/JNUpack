{
 "cells": [
  {
   "cell_type": "code",
   "execution_count": 1,
   "metadata": {},
   "outputs": [],
   "source": [
    "import sys\n",
    "sys.path.append('C:/Users/shjo/Bridge/JNUpack/SO/libs/')\n",
    "import matplotlib as mpl\n",
    "# mpl.use('agg')\n",
    "from myPlot import  figmaster,myClrbr\n",
    "import matplotlib.path as mpath\n",
    "from mpl_toolkits.axes_grid1 import make_axes_locatable\n",
    "import os\n",
    "import cartopy\n",
    "import cartopy.crs as ccrs\n",
    "import cartopy.feature as cf\n",
    "from eofs.xarray import Eof\n",
    "import numpy as np\n",
    "import xarray as xr\n",
    "import pickle\n",
    "from myTrend import myfitting2d_sttcs,myfitting1d_sttcs\n",
    "from myPlot import  figmaster,myClrbr, dta_colr\n",
    "import matplotlib.pyplot as plt\n",
    "from scipy.interpolate import griddata \n",
    "import warnings\n",
    "warnings.filterwarnings('ignore')\n",
    "\n",
    "pthMO='J:/MDLS_OBS_OHC/'\n",
    "# pthrn='J:/Reanalysis/'\n",
    "\n",
    "wpth='C:/Users/shjo/OneDrive/mySO/test/'\n",
    "\n",
    "t_rng=[1993, 2020]\n",
    "varnm='OHC700'\n",
    "fig_bool=1\n",
    "\n",
    "myName='Zonal mean '+varnm+' trend'\n",
    "    \n",
    "\n",
    "### Preparation ============================================================\n",
    "wpth=wpth+varnm+'_'+str(t_rng[0])+'_'+str(t_rng[-1])+'/'\n",
    "try :\n",
    "    os.mkdir(wpth)\n",
    "except:\n",
    "    raise\n",
    "\n",
    "# myRnly=[pthrn+i for i in os.listdir(pthrn) if i.endswith('.nc')]\n",
    "myMDOB=[pthMO+i for i in os.listdir(pthMO) if i.endswith('.nc')]\n",
    "\n",
    "myDATA=myMDOB\n",
    "\n",
    "if t_rng[0]<1992:\n",
    "    myDATA=[i for i in myDATA if not i.split('/')[-1].startswith('myECCO')]\n",
    "\n",
    "plt.rcParams[\"font.family\"] = 'Arial'\n",
    "\n",
    "    \n"
   ]
  },
  {
   "cell_type": "code",
   "execution_count": 2,
   "metadata": {},
   "outputs": [
    {
     "name": "stdout",
     "output_type": "stream",
     "text": [
      "!!! Open files !!!\n",
      "!!! Open: J:/MDLS_OBS_OHC/myECCO_199201_201712_tsh.nc !!!\n",
      "!!! Open: J:/MDLS_OBS_OHC/myEN4_198001_202012_tsh.nc !!!\n",
      "!!! Open: J:/MDLS_OBS_OHC/myGECCO_198001_201812_ztshuv.nc !!!\n",
      "!!! Open: J:/MDLS_OBS_OHC/myIAP_198001_201812_tshuv.nc !!!\n",
      "!!! Open: J:/MDLS_OBS_OHC/myIAP_198001_201812_tshuv_real.nc !!!\n",
      "!!! Open: J:/MDLS_OBS_OHC/myISHII_198001_201912_tsh.nc !!!\n"
     ]
    }
   ],
   "source": [
    "### Read myDATA =============================================================\n",
    "\n",
    "print('!!! Open files !!!')\n",
    "myEofs,myNm,myLat,myLon=[],[],[],[]\n",
    "myPcs,myVar,myVar2=[],[],[]\n",
    "lat_rng=[-75,-30]; lon_rng=[0,360]; time_rng=[str(t_rng[0])+'-01',str(t_rng[-1])+'-12']\n",
    "for i in myDATA: \n",
    "    print('!!! Open: '+i+' !!!')\n",
    "    tmp=xr.open_dataset(i)\n",
    "\n",
    "    myDATA = tmp[varnm].loc[dict(lat=slice(lat_rng[0],lat_rng[-1]),lon=slice(lon_rng[0],lon_rng[-1]),\\\n",
    "        time=slice(time_rng[0],time_rng[-1]))]\n",
    "\n",
    "    myDATA=myDATA.where(myDATA<10**30)\n",
    "    \n",
    "    \n",
    "    time,latR,lonR=myDATA.time.values,myDATA.lat.values,myDATA.lon.values\n",
    "    dta_nm=i.split('/')[-1][2:-3].split('_')[0]+' '+varnm+' eof '+\\\n",
    "        str(time[0])[:4]+' '+str(time[-1])[:4]\n",
    "\n",
    "    OHC_1Y=myDATA.rolling(time=12,center=True).mean()[6:-5]\n",
    "\n",
    "    ### EOFs ==================================================================\n",
    "    NN=10\n",
    "    \n",
    "    solver=Eof(OHC_1Y)\n",
    "    eofs = -solver.eofs(neofs=NN, eofscaling=0)\n",
    "    pcs = -solver.pcs(npcs=NN,pcscaling=0)\n",
    "    var_=solver.varianceFraction(NN)*100\n",
    "    var=var_/np.sum(var_)*100\n",
    "        \n",
    "    myEofs.append(eofs); myNm.append(dta_nm); myLat.append(latR); myLon.append(lonR)\n",
    "    myPcs.append(pcs); myVar.append(var_); myVar2.append(var) \n",
    "    \n",
    "    ### Figure settings =============================================\n",
    "    mySetting={\n",
    "    'figsize': '',\n",
    "    'mylabel': '',\n",
    "    'Label_size':18,\n",
    "    'title_loc':'right',\n",
    "    'fontParams':'Arial',\n",
    "    'wpth':wpth}\n",
    "    \n",
    "    fac=10**2\n",
    "    sstTlim=[-.04*fac,.04*fac]\n",
    "    F=figmaster(mySetting)\n",
    "    CMAP,mylevel=myClrbr('myblc2',sstTlim,16)\n",
    "\n"
   ]
  },
  {
   "cell_type": "code",
   "execution_count": 3,
   "metadata": {},
   "outputs": [],
   "source": [
    "def myCrtpy_sph_pcolor(LAT,LON,DATA,CMAP,mylevel,myName,wpth):\n",
    "    Spheric=ccrs.SouthPolarStereo(central_longitude=0.0,globe=None)\n",
    "    PC = ccrs.PlateCarree(central_longitude=0.0,globe=None)\n",
    "    fig, ax = plt.subplots(1, 1, figsize=(12.5,11),\n",
    "                    subplot_kw={'projection': Spheric})\n",
    "    theta = np.linspace(0, 2*np.pi, 100)\n",
    "    center, radius = [0.5, 0.5], 0.5\n",
    "    verts = np.vstack([np.sin(theta), np.cos(theta)]).T\n",
    "    circle = mpath.Path(verts * radius + center)\n",
    "    ax.set_boundary(circle, transform=ax.transAxes)\n",
    "    ax.add_feature(cf.COASTLINE.with_scale(\"110m\"), lw=1,zorder=110)\n",
    "    ax.add_feature(cartopy.feature.LAND,color=[.75,.75,.75],zorder=100)\n",
    "    ax.set_title(myName,loc='right',fontdict={'fontsize':32,'fontweight':'regular'})\n",
    "    gl = ax.gridlines(crs=PC, draw_labels=True,y_inline=False,x_inline=False,\n",
    "                    linewidth=.6, color='k', alpha=0.45, linestyle='-.')\n",
    "    gl.rotate_labels=False\n",
    "    gl.xlabels_top,gl.ylabels_right = True,True\n",
    "    gl.xlabel_style = gl.ylabel_style = {\"size\" : 26}\n",
    "    M=plt.contourf(LON,LAT,DATA,cmap=CMAP,levels=mylevel,transform=PC)\n",
    "    # M=plt.pcolormesh(LON,LAT,DATA,cmap=CMAP,transform=PC,vmin=-3.5,vmax=3.5)\n",
    "    ax.set_extent([LON[0][0], LON[0][-1], LAT[0][0], LAT[-1][0]], crs=PC)\n",
    "    ax.tick_params(axis='both', which='major', labelsize=28)\n",
    "    divider = make_axes_locatable(ax)\n",
    "    ax_cb = divider.new_horizontal(size=\"5%\", pad=1., axes_class=plt.Axes)\n",
    "    fig.add_axes(ax_cb)\n",
    "    cb=plt.colorbar(M,extend='both',pad=0.08,cax=ax_cb)\n",
    "    cb.set_label(label='', weight='regular',fontsize=28)\n",
    "    cb.ax.tick_params(labelsize=19)\n",
    "    plt.tight_layout()\n",
    "    if 1:\n",
    "        # myName.replace(' ','_')\n",
    "        plt.savefig(wpth)\n",
    "    plt.show()\n",
    "    \n",
    "def plot_pcs(time,time2,pc,t_name,w_path,fig_bool=True):\n",
    "    Label_size = 18\n",
    "    fig, axs = plt.subplots(1,1,figsize=(10,3.7),constrained_layout = True,\n",
    "                        dpi=200)\n",
    "    f1 = axs.plot(time,pc, label='KINETIC_ENRG',color='k',linewidth=2,zorder=0)\n",
    "    axs.set_title(t_name,loc='right',fontdict={'fontsize':20,'fontweight':'regular','fontstyle':'italic'})\n",
    "    axs.tick_params(axis='both', labelsize=Label_size)\n",
    "    axs.grid(axis='x',linestyle='-.')\n",
    "    xtick_location = time[5::12*4]\n",
    "    xtick_labels = time2[5::12*4]\n",
    "    axs.set_xticks(ticks=xtick_location)\n",
    "    axs.set_xticklabels(xtick_labels, rotation=0, fontsize=Label_size, alpha=1)\n",
    "    axs.tick_params(axis='x', direction='in', length=6, pad=8, labelsize=Label_size, labelcolor='k', top=True,width=1.)\n",
    "    axs.tick_params(axis='y', direction='in', length=6, pad=8, labelsize=Label_size-3, width=1., color='k')\n",
    "    plt.tight_layout()\n",
    "    if fig_bool:\n",
    "        # plt.savefig(w_path+Dir_pth+'/ppt/'+save_name,\n",
    "        #         facecolor='none',edgecolor='none',bbox_inches='tight',transparent=True)\n",
    "        plt.savefig(w_path,bbox_inches='tight')\n",
    "    plt.show()"
   ]
  },
  {
   "cell_type": "code",
   "execution_count": 4,
   "metadata": {},
   "outputs": [
    {
     "ename": "RuntimeError",
     "evalue": "No active exception to reraise",
     "output_type": "error",
     "traceback": [
      "\u001b[1;31m---------------------------------------------------------------------------\u001b[0m",
      "\u001b[1;31mRuntimeError\u001b[0m                              Traceback (most recent call last)",
      "\u001b[1;32mc:\\Users\\shjo\\Bridge\\JNUpack\\SO\\main\\EOFS\\OHC_EOFS.ipynb Cell 4\u001b[0m line \u001b[0;36m1\n\u001b[0;32m     <a href='vscode-notebook-cell:/c%3A/Users/shjo/Bridge/JNUpack/SO/main/EOFS/OHC_EOFS.ipynb#W3sZmlsZQ%3D%3D?line=12'>13</a>\u001b[0m eof[eof\u001b[39m*\u001b[39mfac\u001b[39m<\u001b[39msstTlim[\u001b[39m0\u001b[39m] ]\u001b[39m=\u001b[39msstTlim[\u001b[39m0\u001b[39m]\n\u001b[0;32m     <a href='vscode-notebook-cell:/c%3A/Users/shjo/Bridge/JNUpack/SO/main/EOFS/OHC_EOFS.ipynb#W3sZmlsZQ%3D%3D?line=13'>14</a>\u001b[0m eof[eof\u001b[39m*\u001b[39mfac\u001b[39m>\u001b[39msstTlim[\u001b[39m-\u001b[39m\u001b[39m1\u001b[39m]]\u001b[39m=\u001b[39msstTlim[\u001b[39m-\u001b[39m\u001b[39m1\u001b[39m]\n\u001b[1;32m---> <a href='vscode-notebook-cell:/c%3A/Users/shjo/Bridge/JNUpack/SO/main/EOFS/OHC_EOFS.ipynb#W3sZmlsZQ%3D%3D?line=15'>16</a>\u001b[0m \u001b[39mraise\u001b[39;00m\n\u001b[0;32m     <a href='vscode-notebook-cell:/c%3A/Users/shjo/Bridge/JNUpack/SO/main/EOFS/OHC_EOFS.ipynb#W3sZmlsZQ%3D%3D?line=17'>18</a>\u001b[0m \u001b[39m# print('max!!! : ',np.nanmax(eof))\u001b[39;00m\n\u001b[0;32m     <a href='vscode-notebook-cell:/c%3A/Users/shjo/Bridge/JNUpack/SO/main/EOFS/OHC_EOFS.ipynb#W3sZmlsZQ%3D%3D?line=18'>19</a>\u001b[0m \u001b[39m# print('min!!! : ',np.nanmin(eof))\u001b[39;00m\n\u001b[0;32m     <a href='vscode-notebook-cell:/c%3A/Users/shjo/Bridge/JNUpack/SO/main/EOFS/OHC_EOFS.ipynb#W3sZmlsZQ%3D%3D?line=19'>20</a>\u001b[0m \u001b[39m# raise\u001b[39;00m\n\u001b[0;32m     <a href='vscode-notebook-cell:/c%3A/Users/shjo/Bridge/JNUpack/SO/main/EOFS/OHC_EOFS.ipynb#W3sZmlsZQ%3D%3D?line=21'>22</a>\u001b[0m TIME\u001b[39m=\u001b[39m [\u001b[39mstr\u001b[39m(i)[\u001b[39m0\u001b[39m:\u001b[39m7\u001b[39m] \u001b[39mfor\u001b[39;00m i \u001b[39min\u001b[39;00m pcs_\u001b[39m.\u001b[39mtime\u001b[39m.\u001b[39mvalues]\n",
      "\u001b[1;31mRuntimeError\u001b[0m: No active exception to reraise"
     ]
    }
   ],
   "source": [
    "for nm,lat_,lon_,eofs_,pcs_,var1_,var2_ in zip(myNm,myLat,myLon,myEofs,myPcs,myVar,myVar2):\n",
    "    snm=wpth+nm.replace(' ','_')\n",
    "    try :\n",
    "        os.mkdir(snm)\n",
    "    except:\n",
    "        pass\n",
    "    for eof,pc,var1,var2,N in zip(eofs_.values,pcs_.transpose(),var1_,var2_,range(1,len(eofs_)+1)):\n",
    "        \n",
    "        # print('max!!! : ',np.nanmax(eof))\n",
    "        # print('min!!! : ',np.nanmin(eof))\n",
    "        eof=\n",
    "        \n",
    "        eof[eof*fac<sstTlim[0] ]=sstTlim[0]\n",
    "        eof[eof*fac>sstTlim[-1]]=sstTlim[-1]\n",
    "        \n",
    "        raise\n",
    "        \n",
    "        # print('max!!! : ',np.nanmax(eof))\n",
    "        # print('min!!! : ',np.nanmin(eof))\n",
    "        # raise\n",
    "        \n",
    "        TIME= [str(i)[0:7] for i in pcs_.time.values]\n",
    "        TIME2=[str(i)[2:4] for i in pcs_.time.values]\n",
    "\n",
    "        lonM,latM=np.meshgrid(lon_,lat_)\n",
    "        \n",
    "        t_nm=nm+f'\\n{N:02d}'+' mode '+f'{var1:.1f}'+'% ('+f'{var2:.1f}'+'%)'\n",
    "        s_nm=snm+'/'+nm.replace(' ','_')+'_'+f'{N:02d}'+'mode'\n",
    "\n",
    "        myCrtpy_sph_pcolor(latM,lonM,eof*fac,CMAP,mylevel,t_nm,s_nm+'_eof')\n",
    "        myCrtpy_sph_pcolor(latM,lonM,-eof*fac,CMAP,mylevel,t_nm,s_nm+'_eof_re')\n",
    "\n",
    "        plot_pcs(TIME,TIME2,pc/fac,t_nm.replace('eof','pc'),s_nm+'_pc',fig_bool=True)\n",
    "        plot_pcs(TIME,TIME2,-pc/fac,t_nm.replace('eof','pc'),s_nm+'_pc_re',fig_bool=True)\n",
    "        "
   ]
  },
  {
   "cell_type": "code",
   "execution_count": 6,
   "metadata": {},
   "outputs": [
    {
     "ename": "ValueError",
     "evalue": "not enough values to unpack (expected 2, got 1)",
     "output_type": "error",
     "traceback": [
      "\u001b[1;31m---------------------------------------------------------------------------\u001b[0m",
      "\u001b[1;31mValueError\u001b[0m                                Traceback (most recent call last)",
      "\u001b[1;32mc:\\Users\\shjo\\Bridge\\JNUpack\\SO\\main\\EOFS\\OHC_EOFS.ipynb Cell 5\u001b[0m line \u001b[0;36m1\n\u001b[1;32m----> <a href='vscode-notebook-cell:/c%3A/Users/shjo/Bridge/JNUpack/SO/main/EOFS/OHC_EOFS.ipynb#W4sZmlsZQ%3D%3D?line=0'>1</a>\u001b[0m plt\u001b[39m.\u001b[39;49mpcolor(eof[\u001b[39m2\u001b[39;49m])\n",
      "File \u001b[1;32mc:\\Users\\shjo\\miniconda3\\envs\\nemo_env\\lib\\site-packages\\matplotlib\\pyplot.py:2759\u001b[0m, in \u001b[0;36mpcolor\u001b[1;34m(shading, alpha, norm, cmap, vmin, vmax, data, *args, **kwargs)\u001b[0m\n\u001b[0;32m   2755\u001b[0m \u001b[39m@_copy_docstring_and_deprecators\u001b[39m(Axes\u001b[39m.\u001b[39mpcolor)\n\u001b[0;32m   2756\u001b[0m \u001b[39mdef\u001b[39;00m \u001b[39mpcolor\u001b[39m(\n\u001b[0;32m   2757\u001b[0m         \u001b[39m*\u001b[39margs, shading\u001b[39m=\u001b[39m\u001b[39mNone\u001b[39;00m, alpha\u001b[39m=\u001b[39m\u001b[39mNone\u001b[39;00m, norm\u001b[39m=\u001b[39m\u001b[39mNone\u001b[39;00m, cmap\u001b[39m=\u001b[39m\u001b[39mNone\u001b[39;00m,\n\u001b[0;32m   2758\u001b[0m         vmin\u001b[39m=\u001b[39m\u001b[39mNone\u001b[39;00m, vmax\u001b[39m=\u001b[39m\u001b[39mNone\u001b[39;00m, data\u001b[39m=\u001b[39m\u001b[39mNone\u001b[39;00m, \u001b[39m*\u001b[39m\u001b[39m*\u001b[39mkwargs):\n\u001b[1;32m-> 2759\u001b[0m     __ret \u001b[39m=\u001b[39m gca()\u001b[39m.\u001b[39mpcolor(\n\u001b[0;32m   2760\u001b[0m         \u001b[39m*\u001b[39margs, shading\u001b[39m=\u001b[39mshading, alpha\u001b[39m=\u001b[39malpha, norm\u001b[39m=\u001b[39mnorm, cmap\u001b[39m=\u001b[39mcmap,\n\u001b[0;32m   2761\u001b[0m         vmin\u001b[39m=\u001b[39mvmin, vmax\u001b[39m=\u001b[39mvmax,\n\u001b[0;32m   2762\u001b[0m         \u001b[39m*\u001b[39m\u001b[39m*\u001b[39m({\u001b[39m\"\u001b[39m\u001b[39mdata\u001b[39m\u001b[39m\"\u001b[39m: data} \u001b[39mif\u001b[39;00m data \u001b[39mis\u001b[39;00m \u001b[39mnot\u001b[39;00m \u001b[39mNone\u001b[39;00m \u001b[39melse\u001b[39;00m {}), \u001b[39m*\u001b[39m\u001b[39m*\u001b[39mkwargs)\n\u001b[0;32m   2763\u001b[0m     sci(__ret)\n\u001b[0;32m   2764\u001b[0m     \u001b[39mreturn\u001b[39;00m __ret\n",
      "File \u001b[1;32mc:\\Users\\shjo\\miniconda3\\envs\\nemo_env\\lib\\site-packages\\matplotlib\\__init__.py:1475\u001b[0m, in \u001b[0;36m_preprocess_data.<locals>.inner\u001b[1;34m(ax, data, *args, **kwargs)\u001b[0m\n\u001b[0;32m   1472\u001b[0m \u001b[39m@functools\u001b[39m\u001b[39m.\u001b[39mwraps(func)\n\u001b[0;32m   1473\u001b[0m \u001b[39mdef\u001b[39;00m \u001b[39minner\u001b[39m(ax, \u001b[39m*\u001b[39margs, data\u001b[39m=\u001b[39m\u001b[39mNone\u001b[39;00m, \u001b[39m*\u001b[39m\u001b[39m*\u001b[39mkwargs):\n\u001b[0;32m   1474\u001b[0m     \u001b[39mif\u001b[39;00m data \u001b[39mis\u001b[39;00m \u001b[39mNone\u001b[39;00m:\n\u001b[1;32m-> 1475\u001b[0m         \u001b[39mreturn\u001b[39;00m func(ax, \u001b[39m*\u001b[39m\u001b[39mmap\u001b[39m(sanitize_sequence, args), \u001b[39m*\u001b[39m\u001b[39m*\u001b[39mkwargs)\n\u001b[0;32m   1477\u001b[0m     bound \u001b[39m=\u001b[39m new_sig\u001b[39m.\u001b[39mbind(ax, \u001b[39m*\u001b[39margs, \u001b[39m*\u001b[39m\u001b[39m*\u001b[39mkwargs)\n\u001b[0;32m   1478\u001b[0m     auto_label \u001b[39m=\u001b[39m (bound\u001b[39m.\u001b[39marguments\u001b[39m.\u001b[39mget(label_namer)\n\u001b[0;32m   1479\u001b[0m                   \u001b[39mor\u001b[39;00m bound\u001b[39m.\u001b[39mkwargs\u001b[39m.\u001b[39mget(label_namer))\n",
      "File \u001b[1;32mc:\\Users\\shjo\\miniconda3\\envs\\nemo_env\\lib\\site-packages\\matplotlib\\axes\\_axes.py:5944\u001b[0m, in \u001b[0;36mAxes.pcolor\u001b[1;34m(self, shading, alpha, norm, cmap, vmin, vmax, *args, **kwargs)\u001b[0m\n\u001b[0;32m   5942\u001b[0m     shading \u001b[39m=\u001b[39m mpl\u001b[39m.\u001b[39mrcParams[\u001b[39m'\u001b[39m\u001b[39mpcolor.shading\u001b[39m\u001b[39m'\u001b[39m]\n\u001b[0;32m   5943\u001b[0m shading \u001b[39m=\u001b[39m shading\u001b[39m.\u001b[39mlower()\n\u001b[1;32m-> 5944\u001b[0m X, Y, C, shading \u001b[39m=\u001b[39m \u001b[39mself\u001b[39;49m\u001b[39m.\u001b[39;49m_pcolorargs(\u001b[39m'\u001b[39;49m\u001b[39mpcolor\u001b[39;49m\u001b[39m'\u001b[39;49m, \u001b[39m*\u001b[39;49margs, shading\u001b[39m=\u001b[39;49mshading,\n\u001b[0;32m   5945\u001b[0m                                     kwargs\u001b[39m=\u001b[39;49mkwargs)\n\u001b[0;32m   5946\u001b[0m Ny, Nx \u001b[39m=\u001b[39m X\u001b[39m.\u001b[39mshape\n\u001b[0;32m   5948\u001b[0m \u001b[39m# convert to MA, if necessary.\u001b[39;00m\n",
      "File \u001b[1;32mc:\\Users\\shjo\\miniconda3\\envs\\nemo_env\\lib\\site-packages\\matplotlib\\axes\\_axes.py:5696\u001b[0m, in \u001b[0;36mAxes._pcolorargs\u001b[1;34m(self, funcname, shading, *args, **kwargs)\u001b[0m\n\u001b[0;32m   5694\u001b[0m \u001b[39mif\u001b[39;00m \u001b[39mlen\u001b[39m(args) \u001b[39m==\u001b[39m \u001b[39m1\u001b[39m:\n\u001b[0;32m   5695\u001b[0m     C \u001b[39m=\u001b[39m np\u001b[39m.\u001b[39masanyarray(args[\u001b[39m0\u001b[39m])\n\u001b[1;32m-> 5696\u001b[0m     nrows, ncols \u001b[39m=\u001b[39m C\u001b[39m.\u001b[39mshape[:\u001b[39m2\u001b[39m]\n\u001b[0;32m   5697\u001b[0m     \u001b[39mif\u001b[39;00m shading \u001b[39min\u001b[39;00m [\u001b[39m'\u001b[39m\u001b[39mgouraud\u001b[39m\u001b[39m'\u001b[39m, \u001b[39m'\u001b[39m\u001b[39mnearest\u001b[39m\u001b[39m'\u001b[39m]:\n\u001b[0;32m   5698\u001b[0m         X, Y \u001b[39m=\u001b[39m np\u001b[39m.\u001b[39mmeshgrid(np\u001b[39m.\u001b[39marange(ncols), np\u001b[39m.\u001b[39marange(nrows))\n",
      "\u001b[1;31mValueError\u001b[0m: not enough values to unpack (expected 2, got 1)"
     ]
    },
    {
     "data": {
      "image/png": "[encoded data removed]",
      "text/plain": [
       "<Figure size 640x480 with 1 Axes>"
      ]
     },
     "metadata": {},
     "output_type": "display_data"
    }
   ],
   "source": [
    "plt.pcolor(eof[2])"
   ]
  },
  {
   "cell_type": "code",
   "execution_count": 6,
   "metadata": {},
   "outputs": [
    {
     "data": {
      "text/plain": [
       "(720,)"
      ]
     },
     "execution_count": 6,
     "metadata": {},
     "output_type": "execute_result"
    }
   ],
   "source": [
    "eof[0].shape"
   ]
  },
  {
   "cell_type": "code",
   "execution_count": null,
   "metadata": {},
   "outputs": [],
   "source": [
    "snm"
   ]
  },
  {
   "cell_type": "code",
   "execution_count": 7,
   "metadata": {},
   "outputs": [],
   "source": [
    "import time"
   ]
  },
  {
   "cell_type": "code",
   "execution_count": 9,
   "metadata": {},
   "outputs": [
    {
     "name": "stdout",
     "output_type": "stream",
     "text": [
      "2023.10.01 - 15:52:12\n"
     ]
    }
   ],
   "source": [
    "print(time.strftime('%Y.%m.%d - %H:%M:%S') )"
   ]
  },
  {
   "cell_type": "code",
   "execution_count": 10,
   "metadata": {},
   "outputs": [
    {
     "name": "stdout",
     "output_type": "stream",
     "text": [
      "Sun Oct  1 15:52:37 2023\n"
     ]
    }
   ],
   "source": [
    "print(\ttime.strftime('%c'))"
   ]
  },
  {
   "cell_type": "code",
   "execution_count": 12,
   "metadata": {},
   "outputs": [
    {
     "name": "stdout",
     "output_type": "stream",
     "text": [
      "c:\\Users\\shjo\\Bridge\\JNUpack\\SO\\main\\EOFS\n"
     ]
    }
   ],
   "source": [
    "import os\n",
    "import time\n",
    "print(os.getcwd())\n",
    "print(\ttime.strftime('%c'))\n",
    "\n",
    "import sys\n",
    "sys._getframe().f_code.co_filename \n"
   ]
  },
  {
   "cell_type": "code",
   "execution_count": null,
   "metadata": {},
   "outputs": [],
   "source": [
    "# newfile.py\n",
    "f = open(\"새파일.txt\", 'w')\n",
    "info=time.strftime('%c')+'\\n'+os.getcwd()\n",
    "f.write(info)\n",
    "f.close()"
   ]
  }
 ],
 "metadata": {
  "kernelspec": {
   "display_name": "nemo_env",
   "language": "python",
   "name": "python3"
  },
  "language_info": {
   "codemirror_mode": {
    "name": "ipython",
    "version": 3
   },
   "file_extension": ".py",
   "mimetype": "text/x-python",
   "name": "python",
   "nbconvert_exporter": "python",
   "pygments_lexer": "ipython3",
   "version": "3.9.17"
  },
  "orig_nbformat": 4
 },
 "nbformat": 4,
 "nbformat_minor": 2
}
