{
 "cells": [
  {
   "cell_type": "code",
   "execution_count": 24,
   "metadata": {},
   "outputs": [
    {
     "name": "stdout",
     "output_type": "stream",
     "text": [
      "['EEMD_ECCO_OHC700_1993_1993_230E250E_60S50S.mat', 'EEMD_EN4_OHC700_1993_1993_230E250E_60S50S.mat', 'EEMD_GECCO_OHC700_1993_1993_230E250E_60S50S.mat', 'EEMD_IAP_OHC700_1993_1993_230E250E_60S50S.mat', 'EEMD_ISHII_OHC700_1993_1993_230E250E_60S50S.mat']\n"
     ]
    }
   ],
   "source": [
    "from scipy import io\n",
    "import numpy as np\n",
    "import pandas as pd\n",
    "import os \n",
    "\n",
    "pth='C:/Users/shjo/OneDrive/mySO/SCP_EEMD/OHC700_1993_2020_230E250E_60S50S/EEMD_results/'\n",
    "eemd_lst=[i for i in os.listdir(pth) if i.endswith('.mat')]\n"
   ]
  },
  {
   "cell_type": "code",
   "execution_count": 27,
   "metadata": {},
   "outputs": [],
   "source": [
    "### ===============================================================\n",
    "for i in eemd_lst:\n",
    "    myEEMD=io.loadmat(pth+i)['tmp']\n",
    "    myTime=pd.date_range('1993-01',periods=myEEMD.shape[0],freq='1M')\n",
    "    "
   ]
  },
  {
   "cell_type": "code",
   "execution_count": 36,
   "metadata": {},
   "outputs": [],
   "source": [
    "i=eemd_lst[0]\n",
    "tmp=io.loadmat(pth+i)['tmp']"
   ]
  },
  {
   "cell_type": "code",
   "execution_count": 37,
   "metadata": {},
   "outputs": [],
   "source": [
    "myTime=pd.date_range('1993-01',periods=300,freq='1M')\n"
   ]
  },
  {
   "cell_type": "code",
   "execution_count": 35,
   "metadata": {},
   "outputs": [
    {
     "data": {
      "text/plain": [
       "DatetimeIndex(['1993-01-31', '1993-02-28', '1993-03-31', '1993-04-30',\n",
       "               '1993-05-31', '1993-06-30', '1993-07-31', '1993-08-31',\n",
       "               '1993-09-30', '1993-10-31',\n",
       "               ...\n",
       "               '2017-03-31', '2017-04-30', '2017-05-31', '2017-06-30',\n",
       "               '2017-07-31', '2017-08-31', '2017-09-30', '2017-10-31',\n",
       "               '2017-11-30', '2017-12-31'],\n",
       "              dtype='datetime64[ns]', length=300, freq='M')"
      ]
     },
     "execution_count": 35,
     "metadata": {},
     "output_type": "execute_result"
    }
   ],
   "source": [
    "fig, axs = plt.subplots(4,1,figsize=(11,8.5),constrained_layout = True,\n",
    "                            sharex=True,gridspec_kw={'height_ratios': [1,1, 1.,1]},dpi=200)\n",
    "f1 = axs[0].plot(Model_Times1,PD['KINETIC_ENRG'], label='KINETIC_ENRG',color='k',linewidth=2,zorder=0)\n",
    "axs[0].tick_params(axis='y', labelsize=Label_size)\n",
    "# axs[0].set_xlim(Model_Times1.values[0],Model_Times1.values[-1])\n",
    "xtick_location = Model_Times1[5::12]\n",
    "xtick_labels = Model_Times2[5::12]\n",
    "axs[0].set_xticks(ticks=xtick_location)\n",
    "axs[0].set_xticklabels(xtick_labels, rotation=0, fontsize=Label_size, alpha=.7)\n",
    "axs[0].tick_params(axis='x', direction='in', length=6, pad=8, labelsize=Label_size, labelcolor='k', top=True,width=1.)\n",
    "axs[0].tick_params(axis='y', direction='in', length=6, pad=8, labelsize=Label_size-3, width=1., color='k')\n",
    "axs[0].legend(fontsize=12)\n",
    "#! Fig2 \n",
    "plt.tight_layout()\n",
    "if 0:\n",
    "    plt.savefig(self.sv+'ppt/'+'Model_momentum_logs',\n",
    "            facecolor='none',edgecolor='none',bbox_inches='tight',transparent=True)\n",
    "    plt.savefig(self.sv+'Model_momentum_logs')\n",
    "plt.show()"
   ]
  },
  {
   "cell_type": "code",
   "execution_count": null,
   "metadata": {},
   "outputs": [],
   "source": []
  }
 ],
 "metadata": {
  "kernelspec": {
   "display_name": "nemo_env",
   "language": "python",
   "name": "python3"
  },
  "language_info": {
   "codemirror_mode": {
    "name": "ipython",
    "version": 3
   },
   "file_extension": ".py",
   "mimetype": "text/x-python",
   "name": "python",
   "nbconvert_exporter": "python",
   "pygments_lexer": "ipython3",
   "version": "3.9.17"
  }
 },
 "nbformat": 4,
 "nbformat_minor": 2
}
