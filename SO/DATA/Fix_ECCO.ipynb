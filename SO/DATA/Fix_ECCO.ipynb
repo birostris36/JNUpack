{
 "cells": [
  {
   "cell_type": "code",
   "execution_count": 1,
   "metadata": {},
   "outputs": [],
   "source": [
    "from scipy import io\n",
    "from netCDF4 import MFDataset,Dataset,num2date,date2num\n",
    "import numpy as np\n",
    "import datetime as dt\n",
    "import xarray as xr\n",
    "import pandas as pd\n",
    "import h5py\n",
    "from numpy import ma\n",
    "import os\n",
    "\n",
    "npth='J:/Models/myECCO_199201_201712_ts.nc'\n",
    "\n",
    "NC=Dataset(npth,'a')\n",
    "DEPTH=NC['depth'][:]\n",
    "NC['depth'][:]=-DEPTH\n",
    "NC.close()\n"
   ]
  },
  {
   "cell_type": "code",
   "execution_count": 7,
   "metadata": {},
   "outputs": [
    {
     "data": {
      "text/plain": [
       "masked_array(\n",
       "  data=[[        nan,         nan,         nan, ...,         nan,\n",
       "                 nan,         nan],\n",
       "        [        nan,         nan,         nan, ...,         nan,\n",
       "                 nan,         nan],\n",
       "        [        nan,         nan,         nan, ...,         nan,\n",
       "                 nan,         nan],\n",
       "        ...,\n",
       "        [-1.95010829, -1.95010829, -1.95010829, ..., -1.95010829,\n",
       "         -1.95010829, -1.95010829],\n",
       "        [-1.95040703, -1.95040703, -1.95040703, ..., -1.95040703,\n",
       "         -1.95040703, -1.95040703],\n",
       "        [-1.94876373, -1.94876373, -1.94876373, ..., -1.94876373,\n",
       "         -1.94876373, -1.94876373]],\n",
       "  mask=False,\n",
       "  fill_value=1e+20)"
      ]
     },
     "execution_count": 7,
     "metadata": {},
     "output_type": "execute_result"
    }
   ],
   "source": [
    "NC['temp'][0,0]"
   ]
  },
  {
   "cell_type": "code",
   "execution_count": null,
   "metadata": {},
   "outputs": [],
   "source": []
  }
 ],
 "metadata": {
  "kernelspec": {
   "display_name": "nemo_env",
   "language": "python",
   "name": "python3"
  },
  "language_info": {
   "codemirror_mode": {
    "name": "ipython",
    "version": 3
   },
   "file_extension": ".py",
   "mimetype": "text/x-python",
   "name": "python",
   "nbconvert_exporter": "python",
   "pygments_lexer": "ipython3",
   "version": "3.9.17"
  },
  "orig_nbformat": 4
 },
 "nbformat": 4,
 "nbformat_minor": 2
}
