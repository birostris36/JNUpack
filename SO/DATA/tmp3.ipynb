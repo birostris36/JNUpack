{
 "cells": [
  {
   "cell_type": "code",
   "execution_count": 1,
   "metadata": {},
   "outputs": [
    {
     "name": "stdout",
     "output_type": "stream",
     "text": [
      "!!! Reading data ... !!!\n"
     ]
    }
   ],
   "source": [
    "from netCDF4 import MFDataset,Dataset,num2date,date2num\n",
    "import numpy as np\n",
    "import datetime as dt\n",
    "import xarray as xr\n",
    "from scipy.interpolate import interp2d, griddata, LinearNDInterpolator, NearestNDInterpolator\n",
    "import os\n",
    "\n",
    "IAP_pth='D:/IAP/'\n",
    "wnpth='J:/Reanalysis/myGECCO_199201_201712_ztsuv.nc'\n",
    "\n",
    "### Reading data =======================================\n",
    "print('!!! Reading data ... !!!')\n",
    "\n",
    "IAP_temp_=xr.open_mfdataset(IAP_pth+'temp/*.nc',parallel=True).loc[dict(time=slice('1980-01','2022-12'))].temp\n",
    "IAP_temp=IAP_temp_.values.transpose(0,3,1,2)\n",
    "IAP_salt=xr.open_mfdataset(IAP_pth+'salt/*.nc',parallel=True).loc[dict(time=slice('1980-01','2022-12'))].salinity.values.transpose(0,3,1,2)\n",
    "IAP_uv=xr.open_mfdataset(IAP_pth+'UV/*.nc',parallel=True).loc[dict(time=slice('1980-01','2022-12'))]\n",
    "IAP_u,IAP_v=IAP_uv.u.values,IAP_uv.v.values\n",
    "IAP_u=IAP_uv.u.values.transpose(0,3,1,2)\n",
    "\n",
    "LAT,LON,DEPTH=IAP_temp_.lat.values,IAP_temp_.lon.values,IAP_temp_.depth_std.values\n",
    "LAT_uv,LON_uv,DEPTH_uv=IAP_uv.lat.values,IAP_uv.lon.values,IAP_uv.depth.values"
   ]
  },
  {
   "cell_type": "code",
   "execution_count": 19,
   "metadata": {},
   "outputs": [],
   "source": [
    "### Create time variables ===========================================\n",
    "Ref_time='days since 1970-1-1 00:00:00'\n",
    "TIMES=date2num([dt.datetime(int(str(i)[:4]),int(str(i)[4:6]),15) for i in IAP_temp_['time'].values],Ref_time)"
   ]
  },
  {
   "cell_type": "code",
   "execution_count": 21,
   "metadata": {},
   "outputs": [
    {
     "name": "stdout",
     "output_type": "stream",
     "text": [
      "!!! Interpolating UV ...!!!\n",
      "0\n"
     ]
    },
    {
     "ename": "NameError",
     "evalue": "name 'IAP_v' is not defined",
     "output_type": "error",
     "traceback": [
      "\u001b[1;31m---------------------------------------------------------------------------\u001b[0m",
      "\u001b[1;31mNameError\u001b[0m                                 Traceback (most recent call last)",
      "\u001b[1;32mc:\\Users\\shjo\\Bridge\\JNUpack\\SO\\DATA\\tmp3.ipynb Cell 3\u001b[0m line \u001b[0;36m3\n\u001b[0;32m     <a href='vscode-notebook-cell:/c%3A/Users/shjo/Bridge/JNUpack/SO/DATA/tmp3.ipynb#W2sZmlsZQ%3D%3D?line=33'>34</a>\u001b[0m     \u001b[39mfor\u001b[39;00m d \u001b[39min\u001b[39;00m \u001b[39mrange\u001b[39m(D):\n\u001b[0;32m     <a href='vscode-notebook-cell:/c%3A/Users/shjo/Bridge/JNUpack/SO/DATA/tmp3.ipynb#W2sZmlsZQ%3D%3D?line=34'>35</a>\u001b[0m         new_u[t,d]\u001b[39m=\u001b[39mNearesND(LON_uv, LAT_uv, IAP_u[t,d,:,:], LON, LAT)\n\u001b[1;32m---> <a href='vscode-notebook-cell:/c%3A/Users/shjo/Bridge/JNUpack/SO/DATA/tmp3.ipynb#W2sZmlsZQ%3D%3D?line=35'>36</a>\u001b[0m         new_v[t,d]\u001b[39m=\u001b[39mNearesND(LON_uv, LAT_uv, IAP_v[t,d,:,:], LON, LAT)\n\u001b[0;32m     <a href='vscode-notebook-cell:/c%3A/Users/shjo/Bridge/JNUpack/SO/DATA/tmp3.ipynb#W2sZmlsZQ%3D%3D?line=36'>37</a>\u001b[0m         \u001b[39mbreak\u001b[39;00m\n\u001b[0;32m     <a href='vscode-notebook-cell:/c%3A/Users/shjo/Bridge/JNUpack/SO/DATA/tmp3.ipynb#W2sZmlsZQ%3D%3D?line=38'>39</a>\u001b[0m \u001b[39mdel\u001b[39;00m IAP_u, IAP_v\n",
      "\u001b[1;31mNameError\u001b[0m: name 'IAP_v' is not defined"
     ]
    }
   ],
   "source": [
    "### UV interpolation =================================================\n",
    "print('!!! Interpolating UV ...!!!')\n",
    "\n",
    "new_u=np.zeros_like(IAP_temp)\n",
    "new_v=np.zeros_like(new_u)\n",
    "\n",
    "T,D,A,O=new_u.shape\n",
    "\n",
    "def NearesND(lon1, lat1, data, lon2, lat2):\n",
    "\n",
    "    if len(np.shape(lon1)) == 1 or len(np.shape(lat1)) == 1:\n",
    "        lon1, lat1 = np.meshgrid(lon1, lat1)\n",
    "    \n",
    "    if len(np.shape(lon2)) == 1 or len(np.shape(lat2)) == 1:\n",
    "        lon2, lat2 = np.meshgrid(lon2, lat2)\n",
    "\n",
    "    dom_lon_flat = lon1.ravel()\n",
    "    dom_lat_flat = lat1.ravel()\n",
    "    linear_filled_flat = data.ravel()\n",
    "\n",
    "    valid_indices = ~np.isnan(linear_filled_flat)\n",
    "\n",
    "    NearInterp = NearestNDInterpolator((dom_lon_flat[valid_indices], \n",
    "                                     dom_lat_flat[valid_indices]),\n",
    "                                     linear_filled_flat[valid_indices])\n",
    "                                     \n",
    "\n",
    "    neares_filled = NearInterp(lon2, lat2)\n",
    "\n",
    "    return neares_filled\n",
    "\n",
    "for t in range(T):\n",
    "    print(t)\n",
    "    for d in range(D):\n",
    "        new_u[t,d]=NearesND(LON_uv, LAT_uv, IAP_u[t,d,:,:], LON, LAT)\n",
    "        new_v[t,d]=NearesND(LON_uv, LAT_uv, IAP_v[t,d,:,:], LON, LAT)\n",
    "        break\n",
    "\n",
    "del IAP_u, IAP_v"
   ]
  },
  {
   "cell_type": "code",
   "execution_count": 17,
   "metadata": {},
   "outputs": [
    {
     "data": {
      "text/plain": [
       "(504, 41, 180, 360)"
      ]
     },
     "execution_count": 17,
     "metadata": {},
     "output_type": "execute_result"
    }
   ],
   "source": [
    "### Writing data =============================================\n",
    "print('!!! Writing data... !!!')\n",
    "def myOGCM(nc_save_name,LON,LAT,DEPTH,TIME,Ref_time,values1,values2,values3,values4):\n",
    "    \n",
    "    ncfile = Dataset(nc_save_name,mode='w',format='NETCDF4')\n",
    "\n",
    "    ncfile.createDimension('lat', len(LAT))\n",
    "    ncfile.createDimension('lon', len(LON))\n",
    "    ncfile.createDimension('depth',len(DEPTH))\n",
    "    ncfile.createDimension('time',len(TIME))\n",
    "    \n",
    "    ncfile.title='My IAP data '\n",
    "    \n",
    "    lat = ncfile.createVariable('lat', np.float32, ('lat',))\n",
    "    lat.units = 'degrees_north'\n",
    "    lon = ncfile.createVariable('lon', np.float32, ('lon',))\n",
    "    lon.units = 'degrees_east'\n",
    "    depth = ncfile.createVariable('depth', np.float32, ('depth',))\n",
    "    depth.units = 'depth_m'\n",
    "    time = ncfile.createVariable('time', np.float64, ('time',))\n",
    "    time.units=Ref_time\n",
    "    time.field='time, scalar, series'\n",
    "    # time.cycle_length=cycle\n",
    "    \n",
    "    DATA1 = ncfile.createVariable('temp',np.float64,('time','depth','lat','lon'),compression='zlib') #\n",
    "    DATA1.units = 'degree_C' \n",
    "    DATA1.long_name = 'IAP temp' \n",
    "    DATA1.coordinates = \"time, depth, lat, lon\"\n",
    "    \n",
    "    DATA2 = ncfile.createVariable('salt',np.float64,('time','depth','lat','lon'),compression='zlib') \n",
    "    DATA2.units = 'g kg-1' \n",
    "    DATA2.long_name = 'IAP salt' \n",
    "    DATA2.coordinates = \"time, depth, lat, lon\"\n",
    "\n",
    "    DATA3 = ncfile.createVariable('u',np.float64,('time','depth','lat','lon'),compression='zlib') \n",
    "    DATA3.units = 'meter second-1' \n",
    "    DATA3.long_name = 'Eastward velocity' \n",
    "    DATA3.coordinates = \"time, depth, lat, lon\"\n",
    "    \n",
    "    DATA4 = ncfile.createVariable('v',np.float64,('time','depth','lat','lon'),compression='zlib') \n",
    "    DATA4.units = 'meter second-1' \n",
    "    DATA4.long_name = 'Northward velocity' \n",
    "    DATA4.coordinates = \"time, depth, lat, lon\"\n",
    "    \n",
    "    # Data.field=Var.field\n",
    "    lat[:] = LAT\n",
    "    lon[:] = LON\n",
    "    depth[:]= DEPTH\n",
    "    time[:] = TIME \n",
    "     \n",
    "    DATA1[:] = values1\n",
    "    DATA2[:] = values2\n",
    "    DATA3[:] = values3\n",
    "    DATA4[:] = values4\n",
    "\n",
    "    ncfile.close()\n",
    "\n",
    "myOGCM(wnpth,LON,LAT,DEPTH,Ref_time,Ref_time,IAP_salt,IAP_temp,new_u,new_v)"
   ]
  },
  {
   "cell_type": "code",
   "execution_count": null,
   "metadata": {},
   "outputs": [],
   "source": []
  }
 ],
 "metadata": {
  "kernelspec": {
   "display_name": "nemo_env",
   "language": "python",
   "name": "python3"
  },
  "language_info": {
   "codemirror_mode": {
    "name": "ipython",
    "version": 3
   },
   "file_extension": ".py",
   "mimetype": "text/x-python",
   "name": "python",
   "nbconvert_exporter": "python",
   "pygments_lexer": "ipython3",
   "version": "3.9.17"
  },
  "orig_nbformat": 4
 },
 "nbformat": 4,
 "nbformat_minor": 2
}
